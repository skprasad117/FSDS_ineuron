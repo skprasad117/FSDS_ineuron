{
 "cells": [
  {
   "cell_type": "markdown",
   "id": "4f8fa7dd",
   "metadata": {},
   "source": [
    "## Q1. What does an empty dictionary's code look like?"
   ]
  },
  {
   "cell_type": "markdown",
   "id": "6c09c91f",
   "metadata": {},
   "source": [
    "## Ans: \n",
    "Empty dictonary in python can be created by pair of curly braces ```{}``` or by calling ```dict()``` constructor without any argument. The empty dictonary looks like two curly braces with no element ```{}```."
   ]
  },
  {
   "cell_type": "code",
   "execution_count": 23,
   "id": "5258e887",
   "metadata": {},
   "outputs": [
    {
     "data": {
      "text/plain": [
       "dict"
      ]
     },
     "execution_count": 23,
     "metadata": {},
     "output_type": "execute_result"
    }
   ],
   "source": [
    "dict_method_1 = {}\n",
    "type(dict_method_1)"
   ]
  },
  {
   "cell_type": "code",
   "execution_count": 5,
   "id": "d2db40a8",
   "metadata": {},
   "outputs": [
    {
     "data": {
      "text/plain": [
       "dict"
      ]
     },
     "execution_count": 5,
     "metadata": {},
     "output_type": "execute_result"
    }
   ],
   "source": [
    "dict_method_2 = dict()\n",
    "type(dict_method_2)"
   ]
  },
  {
   "cell_type": "code",
   "execution_count": 24,
   "id": "2eed4abf",
   "metadata": {},
   "outputs": [
    {
     "name": "stdout",
     "output_type": "stream",
     "text": [
      "{}\n"
     ]
    }
   ],
   "source": [
    "print(dict_method_1)"
   ]
  },
  {
   "cell_type": "markdown",
   "id": "c5d9a365",
   "metadata": {},
   "source": [
    "## Q2. What is the value of a dictionary value with the key 'foo' and the value 42?"
   ]
  },
  {
   "cell_type": "markdown",
   "id": "5aff65cd",
   "metadata": {},
   "source": [
    "## Ans: \n",
    "The value od the dictonary with key ***'foo'*** and value ***'42'*** would be ***'42'***."
   ]
  },
  {
   "cell_type": "code",
   "execution_count": 8,
   "id": "1cf59f2d",
   "metadata": {},
   "outputs": [
    {
     "name": "stdout",
     "output_type": "stream",
     "text": [
      "42\n"
     ]
    }
   ],
   "source": [
    "dict_a = {'foo':42}\n",
    "print(dict_a['foo'])"
   ]
  },
  {
   "cell_type": "markdown",
   "id": "43033a38",
   "metadata": {},
   "source": [
    "## Q3. What is the most significant distinction between a dictionary and a list?"
   ]
  },
  {
   "cell_type": "markdown",
   "id": "26a35c2e",
   "metadata": {},
   "source": [
    "## Ans:\n",
    "The main diffrence between **dictonary** and **list** is, dictonary stores element as key-value pair, while a list stores elements as a sequence of values.\n",
    "    "
   ]
  },
  {
   "cell_type": "markdown",
   "id": "03b02e5d",
   "metadata": {},
   "source": [
    "## Q4. What happens if you try to access spam['foo'] if spam is {'bar': 100}?"
   ]
  },
  {
   "cell_type": "markdown",
   "id": "b002f6b7",
   "metadata": {},
   "source": [
    "## Ans:\n",
    "Here dictonary has no key having name ```foo``` and Accessing a key that not exists will result in ```KeyError```."
   ]
  },
  {
   "cell_type": "code",
   "execution_count": 9,
   "id": "e8884cbc",
   "metadata": {},
   "outputs": [
    {
     "ename": "KeyError",
     "evalue": "'foo'",
     "output_type": "error",
     "traceback": [
      "\u001b[1;31m---------------------------------------------------------------------------\u001b[0m",
      "\u001b[1;31mKeyError\u001b[0m                                  Traceback (most recent call last)",
      "\u001b[1;32m~\\AppData\\Local\\Temp\\ipykernel_824\\4026577702.py\u001b[0m in \u001b[0;36m<module>\u001b[1;34m\u001b[0m\n\u001b[0;32m      1\u001b[0m \u001b[0mspam\u001b[0m \u001b[1;33m=\u001b[0m \u001b[1;33m{\u001b[0m\u001b[1;34m'bar'\u001b[0m\u001b[1;33m:\u001b[0m\u001b[1;36m100\u001b[0m\u001b[1;33m}\u001b[0m\u001b[1;33m\u001b[0m\u001b[1;33m\u001b[0m\u001b[0m\n\u001b[1;32m----> 2\u001b[1;33m \u001b[0mspam\u001b[0m\u001b[1;33m[\u001b[0m\u001b[1;34m'foo'\u001b[0m\u001b[1;33m]\u001b[0m\u001b[1;33m\u001b[0m\u001b[1;33m\u001b[0m\u001b[0m\n\u001b[0m",
      "\u001b[1;31mKeyError\u001b[0m: 'foo'"
     ]
    }
   ],
   "source": [
    "spam = {'bar':100}\n",
    "spam['foo']"
   ]
  },
  {
   "cell_type": "markdown",
   "id": "0b194659",
   "metadata": {},
   "source": [
    "## Q5. If a dictionary is stored in spam, what is the difference between the expressions 'cat' in spam and 'cat' in spam.keys()?"
   ]
  },
  {
   "cell_type": "markdown",
   "id": "de9bf19f",
   "metadata": {},
   "source": [
    "## Ans: \n",
    "There is no diffrence between the expressions ```'cat' in spam``` and ```'cat' in spam.keys()```, both check whether the key **'cat'** is present in the **'spam'** or not. It will result in ```True``` if key is present otherwise result in ```False```."
   ]
  },
  {
   "cell_type": "markdown",
   "id": "1cf85d89",
   "metadata": {},
   "source": [
    "## Q6. If a dictionary is stored in spam, what is the difference between the expressions 'cat' in spam and 'cat' in spam.values()?"
   ]
  },
  {
   "cell_type": "markdown",
   "id": "ac6adee8",
   "metadata": {},
   "source": [
    "There is diffrence bwteen both  expressions ```'cat' in spam``` and ```'cat' in spam.value()```\n",
    "   * ```'cat' in spam``` : checks ```whether 'cat' is a Key in dictonary spam```. if its present then this expression will result in ```True``` otherwise ```False```.\n",
    "   \n",
    "   * ```'cat' in spam.values()``` : checks ```whether 'cat' is a Value in dictonary spam```. if its present then this expression will result in ```True``` otherwise ```False```. "
   ]
  },
  {
   "cell_type": "markdown",
   "id": "030abdd6",
   "metadata": {},
   "source": [
    "## Q7. What is a shortcut for the following code? if 'color' not in spam: spam['color'] = 'black'"
   ]
  },
  {
   "cell_type": "markdown",
   "id": "aab5760e",
   "metadata": {},
   "source": [
    "## Ans:\n",
    "This code checks whether key 'color' is present if its not then its added with value 'black'\n",
    "```\n",
    "if 'color' not in spam: \n",
    "    spam['color'] = 'black'\n",
    "```\n",
    "The alternate and shorter method to achive the same result is by using ```setdefault()```method which first checks wethwe the key is present, if it is there then the existing value of the key is returned otherewise if its not there then key is added to the dictonary with the default value.\n",
    "```\n",
    "spam.setdefault('color', 'black')\n",
    "```\n"
   ]
  },
  {
   "cell_type": "code",
   "execution_count": 12,
   "id": "eecd725b",
   "metadata": {},
   "outputs": [
    {
     "data": {
      "text/plain": [
       "'black'"
      ]
     },
     "execution_count": 12,
     "metadata": {},
     "output_type": "execute_result"
    }
   ],
   "source": [
    "# 'color':'black' there is no such key value pair originally present\n",
    "spam = {'fruit':\"apple\", \"animal\": \"tiger\"}\n",
    "spam.setdefault('color', 'black')"
   ]
  },
  {
   "cell_type": "code",
   "execution_count": 13,
   "id": "139401a1",
   "metadata": {},
   "outputs": [
    {
     "data": {
      "text/plain": [
       "{'fruit': 'apple', 'animal': 'tiger', 'color': 'black'}"
      ]
     },
     "execution_count": 13,
     "metadata": {},
     "output_type": "execute_result"
    }
   ],
   "source": [
    "spam"
   ]
  },
  {
   "cell_type": "code",
   "execution_count": 14,
   "id": "4552f35d",
   "metadata": {},
   "outputs": [
    {
     "data": {
      "text/plain": [
       "'black'"
      ]
     },
     "execution_count": 14,
     "metadata": {},
     "output_type": "execute_result"
    }
   ],
   "source": [
    "# if again try to assign this will result in retuning the value corresponding to that key\n",
    "spam.setdefault('color', 'black')"
   ]
  },
  {
   "cell_type": "code",
   "execution_count": 15,
   "id": "492f6953",
   "metadata": {},
   "outputs": [
    {
     "data": {
      "text/plain": [
       "{'fruit': 'apple', 'animal': 'tiger', 'color': 'black'}"
      ]
     },
     "execution_count": 15,
     "metadata": {},
     "output_type": "execute_result"
    }
   ],
   "source": [
    "spam"
   ]
  },
  {
   "cell_type": "markdown",
   "id": "b7218a25",
   "metadata": {},
   "source": [
    "## Q8. How do you \"pretty print\" dictionary values using which module and function?"
   ]
  },
  {
   "cell_type": "markdown",
   "id": "fbf10924",
   "metadata": {},
   "source": [
    "## Ans:\n",
    "The **pprint** module's ```pprint()``` function is use to pretty print the dictonary values. The ```pprint()``` function prints the dictonary in more readable format, with each key-value pair on a seprate line and indentaion."
   ]
  },
  {
   "cell_type": "code",
   "execution_count": 21,
   "id": "990cb50e",
   "metadata": {},
   "outputs": [
    {
     "name": "stdout",
     "output_type": "stream",
     "text": [
      "{'bar': {'eggs': 'spam', 'spam': 'eggs'}, 'foo': 42}\n"
     ]
    }
   ],
   "source": [
    "import pprint\n",
    "\n",
    "my_dict = {'foo': 42, 'bar': {'spam': 'eggs', 'eggs': 'spam'}}\n",
    "pprint.pprint(my_dict)"
   ]
  },
  {
   "cell_type": "code",
   "execution_count": null,
   "id": "45085359",
   "metadata": {},
   "outputs": [],
   "source": []
  }
 ],
 "metadata": {
  "kernelspec": {
   "display_name": "Python 3 (ipykernel)",
   "language": "python",
   "name": "python3"
  },
  "language_info": {
   "codemirror_mode": {
    "name": "ipython",
    "version": 3
   },
   "file_extension": ".py",
   "mimetype": "text/x-python",
   "name": "python",
   "nbconvert_exporter": "python",
   "pygments_lexer": "ipython3",
   "version": "3.9.13"
  }
 },
 "nbformat": 4,
 "nbformat_minor": 5
}
