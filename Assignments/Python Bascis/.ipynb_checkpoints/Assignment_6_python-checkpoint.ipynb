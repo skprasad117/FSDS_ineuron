{
 "cells": [
  {
   "cell_type": "markdown",
   "id": "7c0baea8",
   "metadata": {},
   "source": [
    "## Q1. What are escape characters, and how do you use them?"
   ]
  },
  {
   "cell_type": "markdown",
   "id": "8a14dfb4",
   "metadata": {},
   "source": [
    "## Ans:\n",
    "**escape character** are special character that are used to represent certain non-printable special character in a string.They are represented by a backslash ('\\\\') followed by a specific character or sequence of characters.\n",
    "Commanly used escape characters in python are:\n",
    "   * ```\\n```: Represents a newline character.\n",
    "   * ```\\t```: Represents a tab character.\n",
    "   * ```\\'```: Represents a single quote.\n",
    "   * ```\\\"```: Represents a double quote.\n",
    "   * ```\\\\```: Represents a backslash."
   ]
  },
  {
   "cell_type": "markdown",
   "id": "ee7885d5",
   "metadata": {},
   "source": [
    "## Q2. What do the escape characters n and t stand for?"
   ]
  },
  {
   "cell_type": "markdown",
   "id": "45f44862",
   "metadata": {},
   "source": [
    "## Ans:\n",
    "Escape character ```\\n``` stands for newline charcter and when used it creates a new line and ```\\t``` is used to insert tab character."
   ]
  },
  {
   "cell_type": "code",
   "execution_count": 2,
   "id": "650a283f",
   "metadata": {},
   "outputs": [
    {
     "name": "stdout",
     "output_type": "stream",
     "text": [
      "first line\n",
      "second line\n"
     ]
    }
   ],
   "source": [
    "print(\"first line\\nsecond line\")"
   ]
  },
  {
   "cell_type": "code",
   "execution_count": 3,
   "id": "b5d649c1",
   "metadata": {},
   "outputs": [
    {
     "name": "stdout",
     "output_type": "stream",
     "text": [
      "first_stop\tnext_stop\n"
     ]
    }
   ],
   "source": [
    "print(\"first_stop\\tnext_stop\")"
   ]
  },
  {
   "cell_type": "markdown",
   "id": "f9542f59",
   "metadata": {},
   "source": [
    "## Q3. What is the way to include backslash characters in a string?"
   ]
  },
  {
   "cell_type": "markdown",
   "id": "63f5bd0d",
   "metadata": {},
   "source": [
    "## Ans:\n",
    "To include backslash character in string, escape character ```\\``` can be used "
   ]
  },
  {
   "cell_type": "code",
   "execution_count": 4,
   "id": "74172641",
   "metadata": {},
   "outputs": [
    {
     "name": "stdout",
     "output_type": "stream",
     "text": [
      "this is a backslash: \\\n"
     ]
    }
   ],
   "source": [
    "string = \"this is a backslash: \\\\\"\n",
    "print(string)"
   ]
  },
  {
   "cell_type": "markdown",
   "id": "f5c7219b",
   "metadata": {},
   "source": [
    "## Q4. The string \"Howl's Moving Castle\" is a correct value. Why isn't the single quote character in the word Howl's not escaped a problem?"
   ]
  },
  {
   "cell_type": "markdown",
   "id": "2494ea5c",
   "metadata": {},
   "source": [
    "## Ans\n",
    "In Python single quotes and double quotes can be used to define a string. This means that if  have a string that contains a single quote character, it can define using double quotes, and there is no need to escape the single quote character."
   ]
  },
  {
   "cell_type": "markdown",
   "id": "c3334fc8",
   "metadata": {},
   "source": [
    "## Q5. How do you write a string of newlines if you don't want to use the n character?"
   ]
  },
  {
   "cell_type": "markdown",
   "id": "7c21026d",
   "metadata": {},
   "source": [
    "## Ans:\n",
    "Newline string can be created without using ```n``` character. This can be done by multiline string by using triple quotes ```\"\"\"...\"\"\"``` or ```'''...'''```"
   ]
  },
  {
   "cell_type": "code",
   "execution_count": 11,
   "id": "c3b9cefc",
   "metadata": {},
   "outputs": [
    {
     "name": "stdout",
     "output_type": "stream",
     "text": [
      "hello,\n",
      "see this is an alternative\n",
      "to create multiline string without using 'n' character\n"
     ]
    }
   ],
   "source": [
    "multiline_string = \"\"\"hello,\n",
    "see this is an alternative\n",
    "to create multiline string without using 'n' character\"\"\"\n",
    "print(multiline_string)"
   ]
  },
  {
   "cell_type": "markdown",
   "id": "ab8489c5",
   "metadata": {},
   "source": [
    "## Q6. What are the values of the given expressions?\n",
    "    * 'Hello, world!'[1]\n",
    "    * 'Hello, world!'[0:5]\n",
    "    * 'Hello, world!'[:5]\n",
    "    * 'Hello, world!'[3:]\n"
   ]
  },
  {
   "cell_type": "markdown",
   "id": "98ec794e",
   "metadata": {},
   "source": [
    "## Ans:\n",
    "The output of following expression will be:\n",
    "- **Expressions** and **Outputs**\n",
    "   * ```'Hello, world!'[1]``` : output :```e```\n",
    "   \n",
    "   * ```'Hello, world!'[0:5]```:output :```Hello```\n",
    "   \n",
    "   * ```'Hello, world!'[:5]```:output :```Hello```\n",
    "   \n",
    "   * ```'Hello, world!'[3:]```:output :```lo, world!```\n",
    "\n",
    "    "
   ]
  },
  {
   "cell_type": "code",
   "execution_count": 15,
   "id": "47d930ae",
   "metadata": {},
   "outputs": [
    {
     "name": "stdout",
     "output_type": "stream",
     "text": [
      "e\n",
      "Hello\n",
      "Hello\n",
      "lo, world!\n"
     ]
    }
   ],
   "source": [
    "print('Hello, world!'[1])\n",
    "print('Hello, world!'[0:5])\n",
    "print('Hello, world!'[:5])\n",
    "print('Hello, world!'[3:])"
   ]
  },
  {
   "cell_type": "markdown",
   "id": "17116675",
   "metadata": {},
   "source": [
    "## Q7. What are the values of the following expressions?\n",
    "    * 'Hello'.upper()\n",
    "    * 'Hello'.upper().isupper()\n",
    "    * 'Hello'.upper().lower()\n"
   ]
  },
  {
   "cell_type": "markdown",
   "id": "e08c50e4",
   "metadata": {},
   "source": [
    "## Ans:\n",
    " * ```'Hello'.upper()```:\n",
    "        \n",
    "        This will make the string uppercase.\n",
    "   **Output :** `HELLO`\n",
    "   \n",
    " * ```'Hello'.upper().isupper()```:\n",
    "        \n",
    "        Checks whether the string is upper case or not. If it is then returns `True` as output otherwise `False`\n",
    "   **Output :** `True`\n",
    "   \n",
    " * ```'Hello'.upper().lower()```:\n",
    " \n",
    "       Checks whether the string is lowercase case or not. If it is then returns `True` as output otherwise `False`\n",
    "        \n",
    "   **Output :** `False`\n",
    "   "
   ]
  },
  {
   "cell_type": "code",
   "execution_count": 17,
   "id": "ef54becc",
   "metadata": {},
   "outputs": [
    {
     "name": "stdout",
     "output_type": "stream",
     "text": [
      "HELLO\n",
      "True\n",
      "hello\n"
     ]
    }
   ],
   "source": [
    "print('Hello'.upper())\n",
    "print('Hello'.upper().isupper())\n",
    "print('Hello'.upper().lower())"
   ]
  },
  {
   "cell_type": "markdown",
   "id": "3e7afdfb",
   "metadata": {},
   "source": [
    "## Q8. What are the values of the following expressions?\n",
    "\n",
    "1. ```'Remember, remember, the fifth of July.'.split()```\n",
    "\n",
    "2. ```'-'.join('There can only one.'.split())```"
   ]
  },
  {
   "cell_type": "markdown",
   "id": "dcf63687",
   "metadata": {},
   "source": [
    "## Ans:\n",
    "1. ```'Remember, remember, the fifth of July.'.split()``` : ```split()``` method splits the string on delimiter and return list of it. if no delimiter is mentioned the default delimiter is 'whitespace character'. so in our case it will split the string on whitespace delimter and return it us as list.\n",
    "    \n",
    "    **OUTPUT :** ['Remember,', 'remember,', 'the', 'fifth', 'of', 'July.']\n",
    "2. ```'-'.join('There can only one.'.split())``` : This will first split the string on whitespaces and then join them using `-` and return a new string where whitespaces are replace by `-`.\n",
    "\n",
    "    **OUTPUT :** 'There-can-only-one.'"
   ]
  },
  {
   "cell_type": "code",
   "execution_count": 19,
   "id": "709c7c2b",
   "metadata": {},
   "outputs": [
    {
     "data": {
      "text/plain": [
       "['Remember,', 'remember,', 'the', 'fifth', 'of', 'July.']"
      ]
     },
     "execution_count": 19,
     "metadata": {},
     "output_type": "execute_result"
    }
   ],
   "source": [
    "'Remember, remember, the fifth of July.'.split()"
   ]
  },
  {
   "cell_type": "code",
   "execution_count": 22,
   "id": "c1c16795",
   "metadata": {},
   "outputs": [
    {
     "data": {
      "text/plain": [
       "'There-can-only-one.'"
      ]
     },
     "execution_count": 22,
     "metadata": {},
     "output_type": "execute_result"
    }
   ],
   "source": [
    " '-'.join('There can only one.'.split())"
   ]
  },
  {
   "cell_type": "markdown",
   "id": "53d591c6",
   "metadata": {},
   "source": [
    "## Q9. What are the methods for right-justifying, left-justifying, and centering a string?"
   ]
  },
  {
   "cell_type": "markdown",
   "id": "afc5cb90",
   "metadata": {},
   "source": [
    "## Ans:\n",
    "The rjust(), ljust(), and center() methods are used for right-justifying, left-justifying, and centering a string\n",
    "\n",
    "* **The rjust() method :** takes a width parameter and an optional fill character and returns the original string right-justified to the given width by adding fill characters on the left side.\n",
    "\n",
    "* **The ljust() method :** is similar to rjust(), but it adds fill characters on the right side of the string to make it left-justified.\n",
    "\n",
    "* **The center() method :** centers the string within a given width by adding fill characters on both side's of the string.* "
   ]
  },
  {
   "cell_type": "code",
   "execution_count": 24,
   "id": "f4d79e53",
   "metadata": {},
   "outputs": [
    {
     "name": "stdout",
     "output_type": "stream",
     "text": [
      "---------Hello World\n",
      "Hello World*********\n",
      "~~~~Hello World~~~~~\n"
     ]
    }
   ],
   "source": [
    "text = \"Hello World\"\n",
    "print(text.rjust(20, \"-\"))\n",
    "print(text.ljust(20, \"*\"))  \n",
    "print(text.center(20, \"~\"))"
   ]
  },
  {
   "cell_type": "markdown",
   "id": "404d91ee",
   "metadata": {},
   "source": [
    "## Q10. What is the best way to remove whitespace characters from the start or end?"
   ]
  },
  {
   "cell_type": "markdown",
   "id": "87a9f222",
   "metadata": {},
   "source": [
    "## Ans:\n",
    "The best way to remove white space is by using ```strip()``` method. this method return's new string with leading and trailing whitespace charater removed."
   ]
  },
  {
   "cell_type": "code",
   "execution_count": 25,
   "id": "a655ecfb",
   "metadata": {},
   "outputs": [
    {
     "name": "stdout",
     "output_type": "stream",
     "text": [
      "  hello world        \n"
     ]
    }
   ],
   "source": [
    "string = \"  hello world        \"\n",
    "print(string)"
   ]
  },
  {
   "cell_type": "code",
   "execution_count": 26,
   "id": "709a5055",
   "metadata": {},
   "outputs": [
    {
     "data": {
      "text/plain": [
       "'hello world'"
      ]
     },
     "execution_count": 26,
     "metadata": {},
     "output_type": "execute_result"
    }
   ],
   "source": [
    "string.strip()"
   ]
  },
  {
   "cell_type": "markdown",
   "id": "c0c86b92",
   "metadata": {},
   "source": [
    "leading and trailing whitesapace can be removed using `lstrip()` and `rstrip()`"
   ]
  },
  {
   "cell_type": "code",
   "execution_count": 28,
   "id": "da8b1917",
   "metadata": {},
   "outputs": [],
   "source": [
    "new_string = \"  hello world     \""
   ]
  },
  {
   "cell_type": "code",
   "execution_count": 33,
   "id": "ea53f362",
   "metadata": {},
   "outputs": [
    {
     "name": "stdout",
     "output_type": "stream",
     "text": [
      "lstrip() : hello world     \n",
      "rstrip() :   hello world\n"
     ]
    }
   ],
   "source": [
    "print(\"lstrip() :\", new_string.lstrip())\n",
    "print(\"rstrip() :\", new_string.rstrip())"
   ]
  },
  {
   "cell_type": "code",
   "execution_count": null,
   "id": "df001c6c",
   "metadata": {},
   "outputs": [],
   "source": []
  }
 ],
 "metadata": {
  "kernelspec": {
   "display_name": "Python 3 (ipykernel)",
   "language": "python",
   "name": "python3"
  },
  "language_info": {
   "codemirror_mode": {
    "name": "ipython",
    "version": 3
   },
   "file_extension": ".py",
   "mimetype": "text/x-python",
   "name": "python",
   "nbconvert_exporter": "python",
   "pygments_lexer": "ipython3",
   "version": "3.9.13"
  }
 },
 "nbformat": 4,
 "nbformat_minor": 5
}
