{
 "cells": [
  {
   "cell_type": "markdown",
   "id": "a91ccecb",
   "metadata": {},
   "source": [
    "## 1. Is the Python Standard Library included with PyInputPlus?\n",
    "\n"
   ]
  },
  {
   "cell_type": "markdown",
   "id": "bbbc9c4b",
   "metadata": {},
   "source": [
    "## Ans: \n",
    "No, Python standard library not include PyInputPlus. To use this need to install it using pip ```pip install PyInputPlus```. It is use to extend the capablities of the built in ```input()``` function, by providing additional features to handle various types of user validation and conversion, making it easier to get and validate user inputs."
   ]
  },
  {
   "cell_type": "markdown",
   "id": "3ca6d495",
   "metadata": {},
   "source": [
    "## 2. Why is PyInputPlus commonly imported with import pyinputplus as pypi?\n"
   ]
  },
  {
   "cell_type": "markdown",
   "id": "d936e2f3",
   "metadata": {},
   "source": [
    "## Ans:\n",
    "The assigning of alias with some other name is use to provide a <b>shorter and more convienient</b> alias for the module. so, in ```import pyinputplus as pypi```, pypi is use as alias for the very same reason and its a very common practise preferred in python. "
   ]
  },
  {
   "cell_type": "markdown",
   "id": "6ab29e02",
   "metadata": {},
   "source": [
    "## 3. How do you distinguish between inputInt() and inputFloat()?\n"
   ]
  },
  {
   "cell_type": "markdown",
   "id": "455c0085",
   "metadata": {},
   "source": [
    "## Ans\n",
    "- <b>inputInt()</b> - Accepts an integer number. Also has `min`/`max`/`greaterThan`/`lessThan` parameters. Returns an int.\n",
    "\n",
    "\n",
    "- <b>inputFloat()</b> - Accepts a floating-point number. Also has `min`/`max`/`greaterThan`/`lessThan` parameters. Returns a float."
   ]
  },
  {
   "cell_type": "markdown",
   "id": "9e636487",
   "metadata": {},
   "source": [
    "## 4. Using PyInputPlus, how do you ensure that the user enters a whole number between 0 and 99?\n"
   ]
  },
  {
   "cell_type": "markdown",
   "id": "4c8c90e1",
   "metadata": {},
   "source": [
    "## Ans:\n",
    "To validate the `int` type data `pyinputplus` provided a input method ```inputInt()``` and some parameters can be provided with that to define a specific range like `min` and `max`."
   ]
  },
  {
   "cell_type": "markdown",
   "id": "41253c05",
   "metadata": {},
   "source": [
    "``` Python\n",
    "import pyinputplus as pypi\n",
    "input_var = pypi.inputInt(prompt='Enter a number between 0 and 99 :  ', min=0, max=99)\n",
    "print(f\"You entered a valid input {input_var}\")\n",
    "```"
   ]
  },
  {
   "cell_type": "markdown",
   "id": "71f72b4c",
   "metadata": {},
   "source": [
    "## 5. What is transferred to the keyword arguments allowRegexes and blockRegexes?\n"
   ]
  },
  {
   "cell_type": "markdown",
   "id": "8bdc890c",
   "metadata": {},
   "source": [
    "## Ans\n",
    "The allowRegexes and blockRegexes keyword arguments are used to specify regular expressions that define patterns for allowed and blocked input strings. These argumentws allow customization of validation of user inputs on regular expressions."
   ]
  },
  {
   "cell_type": "markdown",
   "id": "0052166b",
   "metadata": {},
   "source": [
    "e.g.,\n",
    "```python\n",
    "import pyinputplus as pyip\n",
    "input_var = pyip.inputStr(\"Pick a color: \", allowRegexes=[r\"bl.+\"],blockRegexes=[r\"p.+\"])\n",
    "print(\"You picked:\", input_var)\n",
    "```\n"
   ]
  },
  {
   "cell_type": "markdown",
   "id": "62614375",
   "metadata": {},
   "source": [
    "## 6. If a blank input is entered three times, what does inputStr(limit=3) do?"
   ]
  },
  {
   "cell_type": "markdown",
   "id": "7bcdfff2",
   "metadata": {},
   "source": [
    "## Ans:\n",
    "In the `inputStr(limit=3)` the max limit for valid input is specified as 3, so it will prompt 3 times at max for valid input. If blank input is entered 3 times it will first result in `ValidationException ` and `RetryLimitException `.\n"
   ]
  },
  {
   "cell_type": "markdown",
   "id": "1bf7d914",
   "metadata": {},
   "source": [
    "```python\n",
    "import pyinputplus as pyip\n",
    "\n",
    "try:\n",
    "    user_input = pyip.inputStr(\"Enter something: \", limit=3)\n",
    "    print(\"You entered:\", user_input)\n",
    "except pyip.TimeoutException:\n",
    "print(\"You exceeded the input limit.\")\n",
    "```          \n",
    "                "
   ]
  },
  {
   "cell_type": "markdown",
   "id": "70fa26a1",
   "metadata": {},
   "source": [
    "## 7. If blank input is entered three times, what does inputStr(limit=3, default='hello') do?"
   ]
  },
  {
   "cell_type": "markdown",
   "id": "ef0bb591",
   "metadata": {},
   "source": [
    "## Ans:\n",
    "If blank input is entered three times then this `inputStr(limit=3, default='hello')` will return `hello` as default value and the program will proceed further without raising any exception."
   ]
  }
 ],
 "metadata": {
  "kernelspec": {
   "display_name": "Python 3 (ipykernel)",
   "language": "python",
   "name": "python3"
  },
  "language_info": {
   "codemirror_mode": {
    "name": "ipython",
    "version": 3
   },
   "file_extension": ".py",
   "mimetype": "text/x-python",
   "name": "python",
   "nbconvert_exporter": "python",
   "pygments_lexer": "ipython3",
   "version": "3.11.3"
  }
 },
 "nbformat": 4,
 "nbformat_minor": 5
}
