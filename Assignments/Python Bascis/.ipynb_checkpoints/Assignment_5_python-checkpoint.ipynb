{
 "cells": [
  {
   "cell_type": "markdown",
   "id": "435abfd6",
   "metadata": {},
   "source": [
    "## Q1. What does an empty dictionary's code look like?"
   ]
  },
  {
   "cell_type": "markdown",
   "id": "1428c384",
   "metadata": {},
   "source": [
    "## Ans: \n",
    "Empty dictonary in python can be created by pair of curly braces ```{}``` or by calling ```dict()``` constructor without any argument. The empty dictonary looks like two curly braces with no element ```{}```."
   ]
  },
  {
   "cell_type": "code",
   "execution_count": 23,
   "id": "1c524b88",
   "metadata": {},
   "outputs": [
    {
     "data": {
      "text/plain": [
       "dict"
      ]
     },
     "execution_count": 23,
     "metadata": {},
     "output_type": "execute_result"
    }
   ],
   "source": [
    "dict_method_1 = {}\n",
    "type(dict_method_1)"
   ]
  },
  {
   "cell_type": "code",
   "execution_count": 5,
   "id": "d82ae89a",
   "metadata": {},
   "outputs": [
    {
     "data": {
      "text/plain": [
       "dict"
      ]
     },
     "execution_count": 5,
     "metadata": {},
     "output_type": "execute_result"
    }
   ],
   "source": [
    "dict_method_2 = dict()\n",
    "type(dict_method_2)"
   ]
  },
  {
   "cell_type": "code",
   "execution_count": 24,
   "id": "d73ba2dc",
   "metadata": {},
   "outputs": [
    {
     "name": "stdout",
     "output_type": "stream",
     "text": [
      "{}\n"
     ]
    }
   ],
   "source": [
    "print(dict_method_1)"
   ]
  },
  {
   "cell_type": "markdown",
   "id": "7a58301f",
   "metadata": {},
   "source": [
    "## Q2. What is the value of a dictionary value with the key 'foo' and the value 42?"
   ]
  },
  {
   "cell_type": "markdown",
   "id": "55e57905",
   "metadata": {},
   "source": [
    "## Ans: \n",
    "The value od the dictonary with key ***'foo'*** and value ***'42'*** would be ***'42'***."
   ]
  },
  {
   "cell_type": "code",
   "execution_count": 8,
   "id": "d89fc6ad",
   "metadata": {},
   "outputs": [
    {
     "name": "stdout",
     "output_type": "stream",
     "text": [
      "42\n"
     ]
    }
   ],
   "source": [
    "dict_a = {'foo':42}\n",
    "print(dict_a['foo'])"
   ]
  },
  {
   "cell_type": "markdown",
   "id": "909b875e",
   "metadata": {},
   "source": [
    "## Q3. What is the most significant distinction between a dictionary and a list?"
   ]
  },
  {
   "cell_type": "markdown",
   "id": "745325ca",
   "metadata": {},
   "source": [
    "## Ans:\n",
    "The main diffrence between **dictonary** and **list** is, dictonary stores element as key-value pair, while a list stores elements as a sequence of values.\n",
    "    "
   ]
  },
  {
   "cell_type": "markdown",
   "id": "d7a81fe2",
   "metadata": {},
   "source": [
    "## Q4. What happens if you try to access spam['foo'] if spam is {'bar': 100}?"
   ]
  },
  {
   "cell_type": "markdown",
   "id": "b54a0894",
   "metadata": {},
   "source": [
    "## Ans:\n",
    "Here dictonary has no key having name ```foo``` and Accessing a key that not exists will result in ```KeyError```."
   ]
  },
  {
   "cell_type": "code",
   "execution_count": 9,
   "id": "bb93fdc6",
   "metadata": {},
   "outputs": [
    {
     "ename": "KeyError",
     "evalue": "'foo'",
     "output_type": "error",
     "traceback": [
      "\u001b[1;31m---------------------------------------------------------------------------\u001b[0m",
      "\u001b[1;31mKeyError\u001b[0m                                  Traceback (most recent call last)",
      "\u001b[1;32m~\\AppData\\Local\\Temp\\ipykernel_824\\4026577702.py\u001b[0m in \u001b[0;36m<module>\u001b[1;34m\u001b[0m\n\u001b[0;32m      1\u001b[0m \u001b[0mspam\u001b[0m \u001b[1;33m=\u001b[0m \u001b[1;33m{\u001b[0m\u001b[1;34m'bar'\u001b[0m\u001b[1;33m:\u001b[0m\u001b[1;36m100\u001b[0m\u001b[1;33m}\u001b[0m\u001b[1;33m\u001b[0m\u001b[1;33m\u001b[0m\u001b[0m\n\u001b[1;32m----> 2\u001b[1;33m \u001b[0mspam\u001b[0m\u001b[1;33m[\u001b[0m\u001b[1;34m'foo'\u001b[0m\u001b[1;33m]\u001b[0m\u001b[1;33m\u001b[0m\u001b[1;33m\u001b[0m\u001b[0m\n\u001b[0m",
      "\u001b[1;31mKeyError\u001b[0m: 'foo'"
     ]
    }
   ],
   "source": [
    "spam = {'bar':100}\n",
    "spam['foo']"
   ]
  },
  {
   "cell_type": "markdown",
   "id": "b56d53df",
   "metadata": {},
   "source": [
    "## Q5. If a dictionary is stored in spam, what is the difference between the expressions 'cat' in spam and 'cat' in spam.keys()?"
   ]
  },
  {
   "cell_type": "markdown",
   "id": "c2850b5d",
   "metadata": {},
   "source": [
    "## Ans: \n",
    "There is no diffrence between the expressions ```'cat' in spam``` and ```'cat' in spam.keys()```, both check whether the key **'cat'** is present in the **'spam'** or not. It will result in ```True``` if key is present otherwise result in ```False```."
   ]
  },
  {
   "cell_type": "markdown",
   "id": "327242ff",
   "metadata": {},
   "source": [
    "## Q6. If a dictionary is stored in spam, what is the difference between the expressions 'cat' in spam and 'cat' in spam.values()?"
   ]
  },
  {
   "cell_type": "markdown",
   "id": "9bc3da77",
   "metadata": {},
   "source": [
    "There is diffrence bwteen both  expressions ```'cat' in spam``` and ```'cat' in spam.value()```\n",
    "   * ```'cat' in spam``` : checks ```whether 'cat' is a Key in dictonary spam```. if its present then this expression will result in ```True``` otherwise ```False```.\n",
    "   \n",
    "   * ```'cat' in spam.values()``` : checks ```whether 'cat' is a Value in dictonary spam```. if its present then this expression will result in ```True``` otherwise ```False```. "
   ]
  },
  {
   "cell_type": "markdown",
   "id": "96701a9f",
   "metadata": {},
   "source": [
    "## Q7. What is a shortcut for the following code? if 'color' not in spam: spam['color'] = 'black'"
   ]
  },
  {
   "cell_type": "markdown",
   "id": "13967fd0",
   "metadata": {},
   "source": [
    "## Ans:\n",
    "This code checks whether key 'color' is present if its not then its added with value 'black'\n",
    "```\n",
    "if 'color' not in spam: \n",
    "    spam['color'] = 'black'\n",
    "```\n",
    "The alternate and shorter method to achive the same result is by using ```setdefault()```method which first checks wethwe the key is present, if it is there then the existing value of the key is returned otherewise if its not there then key is added to the dictonary with the default value.\n",
    "```\n",
    "spam.setdefault('color', 'black')\n",
    "```\n"
   ]
  },
  {
   "cell_type": "code",
   "execution_count": 12,
   "id": "388ffffb",
   "metadata": {},
   "outputs": [
    {
     "data": {
      "text/plain": [
       "'black'"
      ]
     },
     "execution_count": 12,
     "metadata": {},
     "output_type": "execute_result"
    }
   ],
   "source": [
    "# 'color':'black' there is no such key value pair originally present\n",
    "spam = {'fruit':\"apple\", \"animal\": \"tiger\"}\n",
    "spam.setdefault('color', 'black')"
   ]
  },
  {
   "cell_type": "code",
   "execution_count": 13,
   "id": "fa827c6f",
   "metadata": {},
   "outputs": [
    {
     "data": {
      "text/plain": [
       "{'fruit': 'apple', 'animal': 'tiger', 'color': 'black'}"
      ]
     },
     "execution_count": 13,
     "metadata": {},
     "output_type": "execute_result"
    }
   ],
   "source": [
    "spam"
   ]
  },
  {
   "cell_type": "code",
   "execution_count": 14,
   "id": "5abd6a19",
   "metadata": {},
   "outputs": [
    {
     "data": {
      "text/plain": [
       "'black'"
      ]
     },
     "execution_count": 14,
     "metadata": {},
     "output_type": "execute_result"
    }
   ],
   "source": [
    "# if again try to assign this will result in retuning the value corresponding to that key\n",
    "spam.setdefault('color', 'black')"
   ]
  },
  {
   "cell_type": "code",
   "execution_count": 15,
   "id": "4c6f03f8",
   "metadata": {},
   "outputs": [
    {
     "data": {
      "text/plain": [
       "{'fruit': 'apple', 'animal': 'tiger', 'color': 'black'}"
      ]
     },
     "execution_count": 15,
     "metadata": {},
     "output_type": "execute_result"
    }
   ],
   "source": [
    "spam"
   ]
  },
  {
   "cell_type": "markdown",
   "id": "0a3b9a59",
   "metadata": {},
   "source": [
    "## Q8. How do you \"pretty print\" dictionary values using which module and function?"
   ]
  },
  {
   "cell_type": "markdown",
   "id": "607f3a1d",
   "metadata": {},
   "source": [
    "## Ans:\n",
    "The **pprint** module's ```pprint()``` function is use to pretty print the dictonary values. The ```pprint()``` function prints the dictonary in more readable format, with each key-value pair on a seprate line and indentaion."
   ]
  },
  {
   "cell_type": "code",
   "execution_count": 21,
   "id": "6c28e2d5",
   "metadata": {},
   "outputs": [
    {
     "name": "stdout",
     "output_type": "stream",
     "text": [
      "{'bar': {'eggs': 'spam', 'spam': 'eggs'}, 'foo': 42}\n"
     ]
    }
   ],
   "source": [
    "import pprint\n",
    "\n",
    "my_dict = {'foo': 42, 'bar': {'spam': 'eggs', 'eggs': 'spam'}}\n",
    "pprint.pprint(my_dict)"
   ]
  },
  {
   "cell_type": "code",
   "execution_count": null,
   "id": "8e386822",
   "metadata": {},
   "outputs": [],
   "source": []
  }
 ],
 "metadata": {
  "kernelspec": {
   "display_name": "Python 3 (ipykernel)",
   "language": "python",
   "name": "python3"
  },
  "language_info": {
   "codemirror_mode": {
    "name": "ipython",
    "version": 3
   },
   "file_extension": ".py",
   "mimetype": "text/x-python",
   "name": "python",
   "nbconvert_exporter": "python",
   "pygments_lexer": "ipython3",
   "version": "3.9.13"
  }
 },
 "nbformat": 4,
 "nbformat_minor": 5
}
