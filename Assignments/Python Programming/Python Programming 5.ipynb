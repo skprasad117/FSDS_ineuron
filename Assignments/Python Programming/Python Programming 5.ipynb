{
 "cells": [
  {
   "cell_type": "markdown",
   "id": "cc84d42b",
   "metadata": {},
   "source": [
    "## 1.Write a Python Program to Find LCM?"
   ]
  },
  {
   "cell_type": "code",
   "execution_count": 1,
   "id": "e5ff5ebb",
   "metadata": {},
   "outputs": [
    {
     "name": "stdout",
     "output_type": "stream",
     "text": [
      "Enter first number: 10\n",
      "Enter second number: 15\n",
      "LCM of 10 and 15 is 30\n"
     ]
    }
   ],
   "source": [
    "def find_lcm(x, y):\n",
    "    if x > y:\n",
    "        greater = x\n",
    "    else:\n",
    "        greater = y\n",
    "\n",
    "    while True:\n",
    "        if (greater % x == 0) and (greater % y == 0):\n",
    "            lcm = greater\n",
    "            break\n",
    "        greater += 1\n",
    "    return lcm\n",
    "\n",
    "\n",
    "num1 = int(input(\"Enter first number: \"))\n",
    "num2 = int(input(\"Enter second number: \"))\n",
    "\n",
    "lcm = find_lcm(num1, num2)\n",
    "print(f\"LCM of {num1} and {num2} is {lcm}\")\n"
   ]
  },
  {
   "cell_type": "markdown",
   "id": "279afe4b",
   "metadata": {},
   "source": [
    "## 2.Write a Python Program to Find HCF?"
   ]
  },
  {
   "cell_type": "code",
   "execution_count": 4,
   "id": "8d9012b9",
   "metadata": {},
   "outputs": [
    {
     "name": "stdout",
     "output_type": "stream",
     "text": [
      "Enter first number: 20\n",
      "Enter second number: 15\n",
      "HCF of 20 and 15 is 5\n"
     ]
    }
   ],
   "source": [
    "def find_hcf(x, y):\n",
    "    while y:\n",
    "        x, y = y, x % y\n",
    "    return x\n",
    "\n",
    "num1 = int(input(\"Enter first number: \"))\n",
    "num2 = int(input(\"Enter second number: \"))\n",
    "\n",
    "hcf = find_hcf(num1, num2)\n",
    "print(f\"HCF of {num1} and {num2} is {hcf}\")\n"
   ]
  },
  {
   "cell_type": "markdown",
   "id": "35ea8a5d",
   "metadata": {},
   "source": [
    "## 3.Write a Python Program to Convert Decimal to Binary, Octal and Hexadecimal?"
   ]
  },
  {
   "cell_type": "code",
   "execution_count": 5,
   "id": "125f476a",
   "metadata": {},
   "outputs": [
    {
     "name": "stdout",
     "output_type": "stream",
     "text": [
      "Enter a decimal number: 10\n",
      "Binary: 0b1010\n",
      "Octal: 0o12\n",
      "Hexadecimal: 0xa\n"
     ]
    }
   ],
   "source": [
    "decimal_num = int(input(\"Enter a decimal number: \"))\n",
    "\n",
    "binary_num = bin(decimal_num)\n",
    "octal_num = oct(decimal_num)\n",
    "hexadecimal_num = hex(decimal_num)\n",
    "\n",
    "print(f\"Binary: {binary_num}\")\n",
    "print(f\"Octal: {octal_num}\")\n",
    "print(f\"Hexadecimal: {hexadecimal_num}\")\n"
   ]
  },
  {
   "cell_type": "markdown",
   "id": "067c640f",
   "metadata": {},
   "source": [
    "## 4.Write a Python Program To Find ASCII value of a character?"
   ]
  },
  {
   "cell_type": "code",
   "execution_count": 7,
   "id": "d04f2c84",
   "metadata": {},
   "outputs": [
    {
     "name": "stdout",
     "output_type": "stream",
     "text": [
      "Enter a character: y\n",
      "ASCII value of y is 121\n"
     ]
    }
   ],
   "source": [
    "char = input(\"Enter a character: \")\n",
    "\n",
    "ascii_value = ord(char)\n",
    "\n",
    "print(f\"ASCII value of {char} is {ascii_value}\")\n"
   ]
  },
  {
   "cell_type": "markdown",
   "id": "fcc0a467",
   "metadata": {},
   "source": [
    "## 5.Write a Python Program to Make a Simple Calculator with 4 basic mathematical operations?"
   ]
  },
  {
   "cell_type": "code",
   "execution_count": 8,
   "id": "5358693c",
   "metadata": {},
   "outputs": [
    {
     "name": "stdout",
     "output_type": "stream",
     "text": [
      "Basic 4 Function calculator\n",
      "--> Enter first number : 5\n",
      "Enter a operator +,-, *, or / : -\n",
      "--> Enter second number : 1\n",
      "--->5.0 - 1.0 = 4.0\n",
      "\n",
      "\n",
      "Press Any key to continue, or\n",
      "To exit press 'q'q\n"
     ]
    }
   ],
   "source": [
    "import operator\n",
    "operators = { \"+\": operator.add, \"-\": operator.sub, \"*\":operator.mul, \"/\":operator.truediv }\n",
    "print('Basic 4 Function calculator')\n",
    "\n",
    "while True:\n",
    "    num1 = float(input(\"--> Enter first number : \"))\n",
    "    oper = str(input(\"Enter a operator +,-, *, or / : \"))\n",
    "\n",
    "    while oper not in [\"+\",\"-\",\"*\",\"/\"]:\n",
    "        oper = input(\"Enter a valid operator +,-, *, or / : \")\n",
    "        \n",
    "    num2= float(input(\"--> Enter second number : \"))\n",
    "    if operator == \"/\" and num2 == 0:\n",
    "        print(\"Numerator can't be zero\")\n",
    "        break\n",
    "        \n",
    "    print(\"--->{} {} {} = {}\\n\\n\".format(num1, oper, num2, operators[oper](num1,num2)))\n",
    "    \n",
    "    choice = input(\"Press Any key to continue, or\\nTo exit press 'q'\")\n",
    "    if choice == 'q' or choice == 'Q':\n",
    "        break"
   ]
  },
  {
   "cell_type": "code",
   "execution_count": null,
   "id": "68d77086",
   "metadata": {},
   "outputs": [],
   "source": []
  }
 ],
 "metadata": {
  "kernelspec": {
   "display_name": "Python 3 (ipykernel)",
   "language": "python",
   "name": "python3"
  },
  "language_info": {
   "codemirror_mode": {
    "name": "ipython",
    "version": 3
   },
   "file_extension": ".py",
   "mimetype": "text/x-python",
   "name": "python",
   "nbconvert_exporter": "python",
   "pygments_lexer": "ipython3",
   "version": "3.11.4"
  }
 },
 "nbformat": 4,
 "nbformat_minor": 5
}
