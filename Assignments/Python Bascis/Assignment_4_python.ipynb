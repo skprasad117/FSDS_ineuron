{
 "cells": [
  {
   "cell_type": "markdown",
   "id": "6f6f54aa",
   "metadata": {},
   "source": [
    "## 1. What exactly is []?"
   ]
  },
  {
   "cell_type": "markdown",
   "id": "c185c560",
   "metadata": {},
   "source": [
    "## Ans:\n",
    "In python, ```'[]'```  is used to denote empty list."
   ]
  },
  {
   "cell_type": "code",
   "execution_count": 63,
   "id": "f09ce5be",
   "metadata": {},
   "outputs": [
    {
     "data": {
      "text/plain": [
       "list"
      ]
     },
     "execution_count": 63,
     "metadata": {},
     "output_type": "execute_result"
    }
   ],
   "source": [
    "empty_list = []\n",
    "type(empty_list)"
   ]
  },
  {
   "cell_type": "markdown",
   "id": "a8f4b860",
   "metadata": {},
   "source": [
    "# Let's pretend the spam includes the list ['a', 'b', 'c', 'd'] for the next three queries."
   ]
  },
  {
   "cell_type": "markdown",
   "id": "dcd52d85",
   "metadata": {},
   "source": [
    "## Q2. In a list of values stored in a variable called spam, how would you assign the value 'hello' as the third value? (Assume [2, 4, 6, 8, 10] are in spam.)"
   ]
  },
  {
   "cell_type": "markdown",
   "id": "edfd6904",
   "metadata": {},
   "source": [
    "## Ans \n",
    "By using the `insert()` method of list \"Hello\" can be added. It Takes two arguments one index of the argument before need to insert and the value."
   ]
  },
  {
   "cell_type": "code",
   "execution_count": 3,
   "id": "afe4b08e",
   "metadata": {},
   "outputs": [
    {
     "data": {
      "text/plain": [
       "['a', 'b', 'hello', 'c', 'd']"
      ]
     },
     "execution_count": 3,
     "metadata": {},
     "output_type": "execute_result"
    }
   ],
   "source": [
    "spam=['a', 'b', 'c', 'd']\n",
    "spam.insert(2,\"hello\")\n",
    "spam"
   ]
  },
  {
   "cell_type": "markdown",
   "id": "ff3d36a2",
   "metadata": {},
   "source": [
    "## Q3. What is the value of spam[int(int('3' * 2) / 11)]?\n"
   ]
  },
  {
   "cell_type": "markdown",
   "id": "1ea35a8b",
   "metadata": {},
   "source": [
    "## Ans\n",
    "if we follow the above created list which is ```['a', 'b', 'hello', 'c', 'd']```  then this ```spam[int(int('3' * 2) / 11)]``` will give ```C``` as the output"
   ]
  },
  {
   "cell_type": "code",
   "execution_count": 5,
   "id": "de3cc5a1",
   "metadata": {},
   "outputs": [
    {
     "data": {
      "text/plain": [
       "'c'"
      ]
     },
     "execution_count": 5,
     "metadata": {},
     "output_type": "execute_result"
    }
   ],
   "source": [
    "spam[int(int('3' * 2) / 11)]"
   ]
  },
  {
   "cell_type": "markdown",
   "id": "0bbd4c3f",
   "metadata": {},
   "source": [
    "## Q4. What is the value of spam[-1]?"
   ]
  },
  {
   "cell_type": "markdown",
   "id": "a9ef338f",
   "metadata": {},
   "source": [
    "## Ans\n",
    "Negative index is an alternative method to access elements of list, it is use to access the elemts from last index.\n",
    "In our case ```spam[-1]``` this will result into ```'d'``` as the output."
   ]
  },
  {
   "cell_type": "code",
   "execution_count": 14,
   "id": "5f474379",
   "metadata": {},
   "outputs": [
    {
     "data": {
      "text/plain": [
       "'d'"
      ]
     },
     "execution_count": 14,
     "metadata": {},
     "output_type": "execute_result"
    }
   ],
   "source": [
    "spam[-1]"
   ]
  },
  {
   "cell_type": "markdown",
   "id": "994e6b1c",
   "metadata": {},
   "source": [
    "## Q5.  What is the value of spam[:2]?\n"
   ]
  },
  {
   "cell_type": "markdown",
   "id": "874aff23",
   "metadata": {},
   "source": [
    "## Ans\n",
    "This is called slicing method and elemts in sequence (such as string, list, tuple) can be accessed by it. it is use to get the portion of sequence.\n",
    "In our case we are having list ```['a', 'b', 'hello', 'c', 'd']``` and using slicing method ```spam[:2]``` will result in list having first two element from our original list as output  which in our case will be ```['a','b']```"
   ]
  },
  {
   "cell_type": "code",
   "execution_count": 17,
   "id": "3bdf48dd",
   "metadata": {},
   "outputs": [
    {
     "data": {
      "text/plain": [
       "['a', 'b']"
      ]
     },
     "execution_count": 17,
     "metadata": {},
     "output_type": "execute_result"
    }
   ],
   "source": [
    "spam[:2]"
   ]
  },
  {
   "cell_type": "markdown",
   "id": "c3faa73a",
   "metadata": {},
   "source": [
    "# Let's pretend bacon has the list [3.14, 'cat,' 11, 'cat,' True] for the next three questions."
   ]
  },
  {
   "cell_type": "code",
   "execution_count": 37,
   "id": "e853c4f7",
   "metadata": {},
   "outputs": [],
   "source": [
    "bacon = [3.14, 'cat', 11, 'cat', True]"
   ]
  },
  {
   "cell_type": "markdown",
   "id": "9f0e0ae3",
   "metadata": {},
   "source": [
    "## Q6 What is the value of bacon.index('cat')?"
   ]
  },
  {
   "cell_type": "markdown",
   "id": "658f1a1c",
   "metadata": {},
   "source": [
    "## Ans\n",
    "This will result the the first index of the value which in our case will be ```1```."
   ]
  },
  {
   "cell_type": "code",
   "execution_count": 38,
   "id": "5d0f6476",
   "metadata": {},
   "outputs": [
    {
     "data": {
      "text/plain": [
       "1"
      ]
     },
     "execution_count": 38,
     "metadata": {},
     "output_type": "execute_result"
    }
   ],
   "source": [
    "bacon.index('cat')"
   ]
  },
  {
   "cell_type": "markdown",
   "id": "b39a3b13",
   "metadata": {},
   "source": [
    "## Q7. How does bacon.append(99) change the look of the list value in bacon"
   ]
  },
  {
   "cell_type": "markdown",
   "id": "c81bfc4d",
   "metadata": {},
   "source": [
    "## Ans\n",
    "```append(x)``` is a method in list use to add an iten to the end of list. Using ```bacon.append(99)``` will result into a list having **99** added at the end ```[3.14, 'cat', 11, 'cat', True, 99]```"
   ]
  },
  {
   "cell_type": "code",
   "execution_count": 39,
   "id": "e1d7af1f",
   "metadata": {},
   "outputs": [
    {
     "data": {
      "text/plain": [
       "[3.14, 'cat', 11, 'cat', True, 99]"
      ]
     },
     "execution_count": 39,
     "metadata": {},
     "output_type": "execute_result"
    }
   ],
   "source": [
    "bacon.append(99)\n",
    "bacon"
   ]
  },
  {
   "cell_type": "markdown",
   "id": "57c79342",
   "metadata": {},
   "source": [
    "## Q8. How does bacon.remove('cat') change the look of the list in bacon?"
   ]
  },
  {
   "cell_type": "markdown",
   "id": "0e30ab8b",
   "metadata": {},
   "source": [
    "## Ans\n",
    "```remove(x)``` is a method in list which removes the first occurence of the value. ``` bacon.remove('cat')``` will change the list from this```[3.14, 'cat', 11, 'cat', True, 99]``` to this [3.14, 11, 'cat', True, 99] by removing **cat**."
   ]
  },
  {
   "cell_type": "code",
   "execution_count": 40,
   "id": "e9b8f55a",
   "metadata": {},
   "outputs": [
    {
     "data": {
      "text/plain": [
       "[3.14, 11, 'cat', True, 99]"
      ]
     },
     "execution_count": 40,
     "metadata": {},
     "output_type": "execute_result"
    }
   ],
   "source": [
    "bacon.remove('cat')\n",
    "bacon"
   ]
  },
  {
   "cell_type": "markdown",
   "id": "75c67cf2",
   "metadata": {},
   "source": [
    "## Q9. What are the list concatenation and list replication operators?"
   ]
  },
  {
   "cell_type": "markdown",
   "id": "1e8f0f3d",
   "metadata": {},
   "source": [
    "## Ans\n",
    "\n",
    "* __Concatenatin Operator:__ List Concatenation is the operation of joining two or more list together into a new list. the concatenation operator is the ```'+'``` symbol, which takes two list and returns a new list which contain all the elements from both the lists\n",
    "e.g. :"
   ]
  },
  {
   "cell_type": "code",
   "execution_count": 42,
   "id": "1e64ad55",
   "metadata": {},
   "outputs": [
    {
     "name": "stdout",
     "output_type": "stream",
     "text": [
      "[1, 2, 3, 4, 5, 6]\n"
     ]
    }
   ],
   "source": [
    "list1 = [1, 2, 3]\n",
    "list2 = [4, 5, 6]\n",
    "new_list = list1 + list2\n",
    "print(new_list)"
   ]
  },
  {
   "cell_type": "markdown",
   "id": "65b73fb5",
   "metadata": {},
   "source": [
    "* __Replication Operator:__ List Replication is the operation of creating a new list by replicating an existing list one or more times. List replication operator is the ```*``` symbol.\n",
    "e.g."
   ]
  },
  {
   "cell_type": "code",
   "execution_count": 44,
   "id": "677b3b4f",
   "metadata": {},
   "outputs": [
    {
     "name": "stdout",
     "output_type": "stream",
     "text": [
      "[1, 2, 3, 1, 2, 3, 1, 2, 3]\n"
     ]
    }
   ],
   "source": [
    "list1 = [1, 2, 3]\n",
    "new_list = list1 * 3\n",
    "print(new_list)"
   ]
  },
  {
   "cell_type": "markdown",
   "id": "c390dd22",
   "metadata": {},
   "source": [
    "## Q10. What is difference between the list methods append() and insert()?"
   ]
  },
  {
   "cell_type": "markdown",
   "id": "0ea22fe9",
   "metadata": {},
   "source": [
    "# Ans: \n",
    "```append()``` and ```insert()``` both are methods of list use to add element to the existing list. The diffrence between them is ```append()``` adds the elemnt to the end of the list and ```insert()```  can add the element anywhere in the list just needed to pass the index as arguemnt before which element needed to be add."
   ]
  },
  {
   "cell_type": "markdown",
   "id": "2613351b",
   "metadata": {},
   "source": [
    "## Q11. What are the two methods for removing items from a list?"
   ]
  },
  {
   "cell_type": "markdown",
   "id": "14ca8ce6",
   "metadata": {},
   "source": [
    "## Ans:\n",
    "The Two methods to remove an item from a list are :\n",
    "\n",
    "   1. **```pop()```** : This method remove and return the item from the index. If no index is specified it removes the last item from the list.\n",
    "   2. **```remove()```** : This method removes the first occurance of the mentioned item from the list.\n",
    "   \n",
    "Other than list methods there are other ways too by using items from a list can be removed. Like using ```del``` keyword of python or using **list comprehension** based on certain condition "
   ]
  },
  {
   "cell_type": "markdown",
   "id": "ab17649b",
   "metadata": {},
   "source": [
    "## Q12. Describe how list values and string values are identical."
   ]
  },
  {
   "cell_type": "markdown",
   "id": "6940a52c",
   "metadata": {},
   "source": [
    "## Ans:\n",
    "list values and string values are sequences of characters. They share the following characteristics:\n",
    "1. Both lists and strings are ordered sequences of values.\n",
    "2. Both lists and strings can be indexed and sliced using square brackets.\n",
    "3. Both lists and strings support concatenation and replication operations."
   ]
  },
  {
   "cell_type": "markdown",
   "id": "59755dc6",
   "metadata": {},
   "source": [
    "## Q13. What's the difference between tuples and lists?"
   ]
  },
  {
   "cell_type": "markdown",
   "id": "42534c7e",
   "metadata": {},
   "source": [
    "## Ans: \n",
    "tuples and lists are both used to store collections of items. But There are several points on which they are diffrent from each other, These points are:\n",
    "\n",
    "1. **Mutability :** ```Tuples are immutable```, which means their elements cannot be changed once they are created, while ```lists are mutable``` and can be modified after creation.\n",
    "\n",
    "2. **Syntax :** Tuples are defined using parentheses () ```my_tuple = (1, 2, 3)``` or without any delimiter ```my_tuple = 1, 2, 3``` , while lists are defined using square brackets [] ```my_list = [1, 2, 3]```.\n",
    "                                            \n",
    "3. **Performance :** Tuples are generally faster and use less memory than lists because they are immutable and can be optimized by the interpreter. **Example is given in below code cell.**\n",
    "\n",
    "4. **Usage :** Tuples are often used to represent a collection of related, immutable values, \n",
    "                e.g.: the x and y coordinates of a point or the elements of a database record etc. \n",
    "Lists, on the other hand, are used to store collections of similar, mutable objects, \n",
    "                e.g.: list of names or a list of integers etc."
   ]
  },
  {
   "cell_type": "code",
   "execution_count": 48,
   "id": "5c393fec",
   "metadata": {},
   "outputs": [
    {
     "name": "stdout",
     "output_type": "stream",
     "text": [
      "my_tuple size : 64\n",
      "my_list size : 120\n"
     ]
    }
   ],
   "source": [
    "# size of tuple is less it uses less memory than list so it is faster as compared to list\n",
    "import sys\n",
    "my_tuple = (1, 2, 3)\n",
    "my_list = [1, 2, 3]\n",
    "print(\"my_tuple size :\",sys.getsizeof(my_tuple))\n",
    "print(\"my_list size :\",sys.getsizeof(my_list))"
   ]
  },
  {
   "cell_type": "markdown",
   "id": "4c2147b8",
   "metadata": {},
   "source": [
    "## Q14. How do you type a tuple value that only contains the integer 42?"
   ]
  },
  {
   "cell_type": "markdown",
   "id": "6f0dc9f5",
   "metadata": {},
   "source": [
    "# Ans:\n",
    "There are two syntax for creating a tuple from which any can be used to create a tuple :\n",
    "1. **Using parenthessis :**\n",
    "    ```my_tuple = (42,)```\n",
    "2. **Without Parenthessis :**\n",
    "    ```my_tuple = 42,```\n",
    "\n",
    "**Note :** It is important to add **','** in the end while creating an single element tuple, without comma python will interprete the expression as an integer value insted of tuple."
   ]
  },
  {
   "cell_type": "markdown",
   "id": "b5217e2b",
   "metadata": {},
   "source": [
    "## Q15.  How do you get a list value's tuple form? How do you get a tuple value's list form?"
   ]
  },
  {
   "cell_type": "markdown",
   "id": "ce18e080",
   "metadata": {},
   "source": [
    "## Ans:\n",
    "To get **list from tuple** or **tuple from list** built-in function ```list()```  or ```tuple()``` can be used. Both these function returns new object without modifying the original object."
   ]
  },
  {
   "cell_type": "code",
   "execution_count": 56,
   "id": "2b5baf8d",
   "metadata": {},
   "outputs": [
    {
     "name": "stdout",
     "output_type": "stream",
     "text": [
      "(1, 2, 3) <class 'tuple'>\n"
     ]
    }
   ],
   "source": [
    "# getting tuple from list using `tuple()` function\n",
    "my_list = [1, 2, 3]\n",
    "my_tuple = tuple(my_list)\n",
    "print(my_tuple, type(my_tuple))"
   ]
  },
  {
   "cell_type": "code",
   "execution_count": 57,
   "id": "5dbef4d6",
   "metadata": {},
   "outputs": [
    {
     "name": "stdout",
     "output_type": "stream",
     "text": [
      "[1, 2, 3] <class 'list'>\n"
     ]
    }
   ],
   "source": [
    "# getting list from tuple using `list()` function\n",
    "my_tuple = (1, 2, 3)\n",
    "my_list = list(my_tuple)\n",
    "print(my_list, type(my_list))\n"
   ]
  },
  {
   "cell_type": "markdown",
   "id": "70d07ee0",
   "metadata": {},
   "source": [
    "## Q16. Variables that \"contain\" list values are not necessarily lists themselves. Instead, what do they contain?"
   ]
  },
  {
   "cell_type": "markdown",
   "id": "09295afa",
   "metadata": {},
   "source": [
    "## Ans:\n",
    "variable that contain list values in python actually ```contains refrences to the list object```. In simple terms, the variable is a label that points to the memory location where the list is stored. Multiple variable can point to the same list object, and ```changes made to the list through one variable will be reflected in all variables that point to the same list.```"
   ]
  },
  {
   "cell_type": "code",
   "execution_count": 62,
   "id": "a4ac5625",
   "metadata": {},
   "outputs": [
    {
     "name": "stdout",
     "output_type": "stream",
     "text": [
      "[1, 2, 3, 4]\n"
     ]
    }
   ],
   "source": [
    "original_list = [1, 2, 3]\n",
    "assigned_list = my_list\n",
    "assigned_list.append(4)\n",
    "print(assigned_list)    # Output: [1, 2, 3, 4]\n"
   ]
  },
  {
   "cell_type": "markdown",
   "id": "f14afc6b",
   "metadata": {},
   "source": [
    "## Q17. How do you distinguish between copy.copy() and copy.deepcopy()?"
   ]
  },
  {
   "cell_type": "markdown",
   "id": "9ee4c2a4",
   "metadata": {},
   "source": [
    "## Ans:\n",
    "Assigment statements in Python do not copy objects, they create bindings between the objects where assigned object have refrence to the original object and changing anything in assigned objects will result in change in original object.\n",
    "\n",
    "So, copy module provides two operations:\n",
    "\n",
    "1. **copy() method :**\n",
    "    * Creates a Shallow Copy (shallow copy creates a new object, but the elements of the new object are still references to the original object's elements) of the object\n",
    "    * copies the object itself, but not the element it contains.\n",
    "    * If object is mutable collection like list, dictionary, or set the new object will contain refrences to the same elements as the original object, rather than new copies. this means that changes made to the elements in the original object will be reflected in the new object, and vice versa.\n",
    "    * If object is immutable like string or tuple, then  new object will be completely new copy of original object. this means  changes made to the original object will not be reflected in the new object\n",
    "    \n",
    "1. **deepcopy() method :**\n",
    "    * Creates a deep copy of the object with its own memory.\n",
    "    * Copies the object and all of the elements it contains.\n",
    "    * If the object is a mutable collection like list, dictonary or sets, the new object will contain new copies of all of the elements, rather than references to the same elements as the original object. this means that changes made to the elements in the original object will not be reflected in the new object, and vice versa. \n",
    "    * If the object is immutable like tuples or strings, the new object will be a completely new copy of the original object (just like with copy()).\n"
   ]
  }
 ],
 "metadata": {
  "kernelspec": {
   "display_name": "Python 3 (ipykernel)",
   "language": "python",
   "name": "python3"
  },
  "language_info": {
   "codemirror_mode": {
    "name": "ipython",
    "version": 3
   },
   "file_extension": ".py",
   "mimetype": "text/x-python",
   "name": "python",
   "nbconvert_exporter": "python",
   "pygments_lexer": "ipython3",
   "version": "3.9.13"
  }
 },
 "nbformat": 4,
 "nbformat_minor": 5
}
