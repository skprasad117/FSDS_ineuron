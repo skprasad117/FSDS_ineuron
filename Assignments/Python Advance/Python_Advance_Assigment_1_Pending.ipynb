{
 "cells": [
  {
   "cell_type": "markdown",
   "id": "7463623d",
   "metadata": {},
   "source": [
    "## Q1. What is the purpose of Python's OOP?"
   ]
  },
  {
   "cell_type": "markdown",
   "id": "28ccc8c4",
   "metadata": {},
   "source": [
    "## Ans :\n",
    "The purpose of Python Object Oriented Programming is to provide a programming Paradigm <b>(a style or approach to write a computer programs)</b> that allows structuring of code in a way that it models real world objects and their interactions.\n",
    "\n",
    "1. OOP allows the organization of code into reusable and self contained units called classes, and each class acts as a blueprint for creation of objects, and these <u>objects can be encapsulate both <b>data</b>(attributes) and <b>behaviour</b></u>(methods).\n",
    "\n",
    "2. It is very useful when need to model real-world entities and their interactions. It allows representation of things like people, cars, animals and more as objects with attributes and behaviours, mirroring how they work in reality.\n",
    "\n",
    "3. Implementation of real world entities like Inheritance, Encapsulation, Abstraction and Polymorphism.\n"
   ]
  },
  {
   "cell_type": "markdown",
   "id": "6f6f9cc7",
   "metadata": {},
   "source": [
    "## Q2. Where does an inheritance search look for an attribute?"
   ]
  },
  {
   "cell_type": "markdown",
   "id": "a4ba59de",
   "metadata": {},
   "source": [
    "## Ans\n",
    "In python, when an Inheritance Search looks for an attribute or method of an object, it follows a specific order known as the Method Resolution Order (MRO), and it defines the sequence in which classes are searched to find the attributes or method one trying to access and also ensures that it must be search in an consisistent and predictable manner and for this it uses <b>C3 Linearization algorithm.</b>\n",
    "\n",
    "Order in which Python searches for attribute :\n",
    "\n",
    "1. <b>The `Instance` Itself :</b> first checks in the instance itself, it it exist it uses it.\n",
    "2. <b>The `class` of the Instance :</b> It looks attribute the the class defination.\n",
    "3. <b>`Base Classes`(Superclasses) :</b> If attribute is not find in classes then python looked for them in the base classes of the classes, following the MRO (Which is determined by C3 Linearization Algorithm).\n",
    "4. <b> Global Namespace </b> : If still python not able to find the attribute in any of the base classes, then it will search in the global namespace (module level scope) where class was defined."
   ]
  },
  {
   "cell_type": "markdown",
   "id": "5d495bc0",
   "metadata": {},
   "source": [
    "## Q3. How do you distinguish between a class object and an instance object?"
   ]
  },
  {
   "cell_type": "markdown",
   "id": "67e94b5a",
   "metadata": {},
   "source": [
    "## Ans\n",
    "\n",
    "<b>Class Object :</b> \n",
    "- A `Class Object` is the blueprint for creating instance (Objects) of that class.\n",
    "- It defines attributes(variables) and methods (functions) that the instance of the class will have.\n",
    "- Use for defining the structure and behaviour of objects.\n",
    "\n",
    "<b>Instance Object :</b>\n",
    "- `Instance objects` are individual object created from a class.\n",
    "- Each Instanse has its own set of attributes values and seprate memory space is allocated for each object whenever an object is created.\n",
    "- They are use to represent specific entities on which diffrent task can be exceuted in python."
   ]
  },
  {
   "cell_type": "markdown",
   "id": "767e01d4",
   "metadata": {},
   "source": [
    "## Q4. What makes the first argument in a class’s method function special?"
   ]
  },
  {
   "cell_type": "markdown",
   "id": "bdb48a62",
   "metadata": {},
   "source": [
    "## Ans:\n",
    "The first argument in pythom class method function os `self`, and its an alias anything can be use in that place to name it, but by convention `self` is widely accepted. This argument is special beacuse it refers to the instance of the class on which the method is called. It ties the method to the instance on which it is called, enabling the method to access and manipulate instance specific data and behaviors. "
   ]
  },
  {
   "cell_type": "markdown",
   "id": "a6bff2ad",
   "metadata": {},
   "source": [
    "## Q5. What is the purpose of the __init__ method?"
   ]
  },
  {
   "cell_type": "markdown",
   "id": "00b45977",
   "metadata": {},
   "source": [
    "## Ans:\n",
    "The `__init__` method in Python is a special method, and referred as Constructer.\n",
    "\n",
    "It serves following key purposes :\n",
    "\n",
    "1. <b>Initialization :</b> Setting up the initial state of the object.\n",
    "    - Initialize the attributes of an object when an instance of a class is       created. \n",
    "    - It is the first method that gets automatically when a new instance of       a class is created. \n",
    "    \n",
    "2. <b>Attribute Assignment :</b> Can assign values to the instance's              attributes. These attributes represent the object's characteristics or      properties, and they store data unique to each instance.\n",
    "\n",
    "3. <b>Parameter Passing :</b> The `__init__` method can accept parameters        that allow passing values to the object during its creation.\n",
    "4. <b>Initialization Logic :</b> Can include additional logic and operations      inside the __init__ method if necessary."
   ]
  },
  {
   "cell_type": "markdown",
   "id": "29461889",
   "metadata": {},
   "source": [
    "## Q6. What is the process for creating a class instance?"
   ]
  },
  {
   "cell_type": "markdown",
   "id": "d98de386",
   "metadata": {},
   "source": [
    "## Ans:\n",
    "To create an instance of the class, we need to call the class as if it were a function, passing any required arguments to the class __init__ method. The __init__ method initializes the attributes of the instance.\n",
    "\n",
    "<b>Example:</b>  `instance = MyClass(value_b, value_a)`"
   ]
  },
  {
   "cell_type": "markdown",
   "id": "dc0bcdf5",
   "metadata": {},
   "source": [
    "## Q7. What is the process for creating a class?"
   ]
  },
  {
   "cell_type": "markdown",
   "id": "c12d4f8d",
   "metadata": {},
   "source": [
    "## Ans:\n",
    "`class` keyword followed by class name is used to define a class, and to name a class CamelCase convention(Each word in capital with no space) is used.\n",
    "\n",
    "<b>Example</b>\n",
    "```python\n",
    "class MyClass:\n",
    "    # Class definition\n",
    "```"
   ]
  },
  {
   "cell_type": "markdown",
   "id": "5421bd39",
   "metadata": {},
   "source": [
    "## Q8. How would you define the superclasses of a class?"
   ]
  },
  {
   "cell_type": "code",
   "execution_count": null,
   "id": "93d56ee0",
   "metadata": {},
   "outputs": [],
   "source": []
  }
 ],
 "metadata": {
  "kernelspec": {
   "display_name": "Python 3 (ipykernel)",
   "language": "python",
   "name": "python3"
  },
  "language_info": {
   "codemirror_mode": {
    "name": "ipython",
    "version": 3
   },
   "file_extension": ".py",
   "mimetype": "text/x-python",
   "name": "python",
   "nbconvert_exporter": "python",
   "pygments_lexer": "ipython3",
   "version": "3.11.4"
  }
 },
 "nbformat": 4,
 "nbformat_minor": 5
}
