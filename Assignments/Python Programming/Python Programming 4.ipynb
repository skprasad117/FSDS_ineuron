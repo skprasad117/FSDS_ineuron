{
 "cells": [
  {
   "cell_type": "markdown",
   "id": "d1c853e4",
   "metadata": {},
   "source": [
    "## 1.Write a Python Program to Find the Factorial of a Number?"
   ]
  },
  {
   "cell_type": "code",
   "execution_count": 3,
   "id": "4d576a81",
   "metadata": {},
   "outputs": [
    {
     "name": "stdout",
     "output_type": "stream",
     "text": [
      "Enter a number: 7\n",
      "Factorial of 7 is 5040\n"
     ]
    }
   ],
   "source": [
    "def factorial(n):\n",
    "    if n == 0:\n",
    "        return 1\n",
    "    else:\n",
    "        return n * factorial(n - 1)\n",
    "\n",
    "num = int(input(\"Enter a number: \"))\n",
    "\n",
    "if num < 0:\n",
    "    print(\"Factorial is not defined for negative numbers.\")\n",
    "else:\n",
    "    result = factorial(num)\n",
    "    print(f\"Factorial of {num} is {result}\")\n"
   ]
  },
  {
   "cell_type": "markdown",
   "id": "6e590679",
   "metadata": {},
   "source": [
    "## 2.Write a Python Program to Display the multiplication Table?"
   ]
  },
  {
   "cell_type": "code",
   "execution_count": 9,
   "id": "1c281969",
   "metadata": {},
   "outputs": [],
   "source": [
    "def multiplication_table(number, n):\n",
    "    for i in range(1, n + 1):\n",
    "        print(f\"{number} x {i} = {number * i}\")"
   ]
  },
  {
   "cell_type": "code",
   "execution_count": 10,
   "id": "57f02ef4",
   "metadata": {},
   "outputs": [
    {
     "name": "stdout",
     "output_type": "stream",
     "text": [
      "5 x 1 = 5\n",
      "5 x 2 = 10\n",
      "5 x 3 = 15\n",
      "5 x 4 = 20\n",
      "5 x 5 = 25\n",
      "5 x 6 = 30\n",
      "5 x 7 = 35\n",
      "5 x 8 = 40\n",
      "5 x 9 = 45\n",
      "5 x 10 = 50\n"
     ]
    }
   ],
   "source": [
    "multiplication_table(5,10)"
   ]
  },
  {
   "cell_type": "markdown",
   "id": "d050faa4",
   "metadata": {},
   "source": [
    "## 3.Write a Python Program to Print the Fibonacci sequence?\n"
   ]
  },
  {
   "cell_type": "code",
   "execution_count": 11,
   "id": "2be45773",
   "metadata": {},
   "outputs": [
    {
     "name": "stdout",
     "output_type": "stream",
     "text": [
      "Enter the number of terms: 10\n",
      "Fibonacci Sequence: [0, 1, 1, 2, 3, 5, 8, 13, 21, 34]\n"
     ]
    }
   ],
   "source": [
    "def fibonacci(n):\n",
    "    fib_sequence = []\n",
    "    a, b = 0, 1\n",
    "    while len(fib_sequence) < n:\n",
    "        fib_sequence.append(a)\n",
    "        a, b = b, a + b\n",
    "    return fib_sequence\n",
    "\n",
    "num_terms = int(input(\"Enter the number of terms: \"))\n",
    "\n",
    "if num_terms <= 0:\n",
    "    print(\"Please enter a positive integer.\")\n",
    "else:\n",
    "    result = fibonacci(num_terms)\n",
    "    print(\"Fibonacci Sequence:\", result)"
   ]
  },
  {
   "cell_type": "markdown",
   "id": "a5648c3e",
   "metadata": {},
   "source": [
    "## 4.Write a Python Program to Check Armstrong Number?"
   ]
  },
  {
   "cell_type": "code",
   "execution_count": 13,
   "id": "25b1a5c0",
   "metadata": {},
   "outputs": [
    {
     "name": "stdout",
     "output_type": "stream",
     "text": [
      "Enter a number: 1634\n",
      "1634 is an Armstrong number\n"
     ]
    }
   ],
   "source": [
    "def is_armstrong_number(number):\n",
    "    num_str = str(number)\n",
    "    num_digits = len(num_str)\n",
    "    total = sum(int(digit) ** num_digits for digit in num_str)\n",
    "    return total == number\n",
    "\n",
    "num = int(input(\"Enter a number: \"))\n",
    "\n",
    "if is_armstrong_number(num):\n",
    "    print(f\"{num} is an Armstrong number\")\n",
    "else:\n",
    "    print(f\"{num} is not an Armstrong number\")"
   ]
  },
  {
   "cell_type": "markdown",
   "id": "0ba4cff1",
   "metadata": {},
   "source": [
    "## 5.Write a Python Program to Find Armstrong Number in an Interval?\n"
   ]
  },
  {
   "cell_type": "code",
   "execution_count": 15,
   "id": "e0f71c58",
   "metadata": {},
   "outputs": [
    {
     "name": "stdout",
     "output_type": "stream",
     "text": [
      "Enter the start of the interval: 1\n",
      "Enter the end of the interval: 10000\n",
      "Armstrong Numbers in the Interval: [1, 2, 3, 4, 5, 6, 7, 8, 9, 153, 370, 371, 407, 1634, 8208, 9474]\n"
     ]
    }
   ],
   "source": [
    "def is_armstrong_number(number):\n",
    "    num_str = str(number)\n",
    "    num_digits = len(num_str)\n",
    "    total = sum(int(digit) ** num_digits for digit in num_str)\n",
    "    return total == number\n",
    "\n",
    "def armstrong_numbers_in_interval(start, end):\n",
    "    armstrong_numbers = []\n",
    "    for num in range(start, end + 1):\n",
    "        if is_armstrong_number(num):\n",
    "            armstrong_numbers.append(num)\n",
    "    return armstrong_numbers\n",
    "\n",
    "start = int(input(\"Enter the start of the interval: \"))\n",
    "end = int(input(\"Enter the end of the interval: \"))\n",
    "\n",
    "if start > end:\n",
    "    print(\"Invalid interval.\")\n",
    "else:\n",
    "    result = armstrong_numbers_in_interval(start, end)\n",
    "    print(\"Armstrong Numbers in the Interval:\", result)\n"
   ]
  },
  {
   "cell_type": "markdown",
   "id": "96b8485a",
   "metadata": {},
   "source": [
    "## 6.Write a Python Program to Find the Sum of Natural Numbers?"
   ]
  },
  {
   "cell_type": "code",
   "execution_count": 16,
   "id": "1f343c10",
   "metadata": {},
   "outputs": [
    {
     "name": "stdout",
     "output_type": "stream",
     "text": [
      "Enter a positive integer: 7\n",
      "Sum of the first 7 natural numbers is 28\n"
     ]
    }
   ],
   "source": [
    "def sum_of_natural_numbers(n):\n",
    "    return (n * (n + 1)) // 2\n",
    "\n",
    "num = int(input(\"Enter a positive integer: \"))\n",
    "\n",
    "if num <= 0:\n",
    "    print(\"Please enter a positive integer.\")\n",
    "else:\n",
    "    result = sum_of_natural_numbers(num)\n",
    "    print(f\"Sum of the first {num} natural numbers is {result}\")\n"
   ]
  },
  {
   "cell_type": "code",
   "execution_count": null,
   "id": "45df3fa8",
   "metadata": {},
   "outputs": [],
   "source": []
  }
 ],
 "metadata": {
  "kernelspec": {
   "display_name": "Python 3 (ipykernel)",
   "language": "python",
   "name": "python3"
  },
  "language_info": {
   "codemirror_mode": {
    "name": "ipython",
    "version": 3
   },
   "file_extension": ".py",
   "mimetype": "text/x-python",
   "name": "python",
   "nbconvert_exporter": "python",
   "pygments_lexer": "ipython3",
   "version": "3.11.4"
  }
 },
 "nbformat": 4,
 "nbformat_minor": 5
}
