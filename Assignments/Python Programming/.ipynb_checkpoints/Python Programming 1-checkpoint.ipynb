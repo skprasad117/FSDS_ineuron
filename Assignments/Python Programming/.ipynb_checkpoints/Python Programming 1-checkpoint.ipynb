{
 "cells": [
  {
   "cell_type": "markdown",
   "id": "7580006b",
   "metadata": {},
   "source": [
    "## 1.Write a Python program to print \"Hello Python\"?"
   ]
  },
  {
   "cell_type": "markdown",
   "id": "7f34db04",
   "metadata": {},
   "source": [
    "## Ans: "
   ]
  },
  {
   "cell_type": "code",
   "execution_count": 2,
   "id": "c877f767",
   "metadata": {},
   "outputs": [
    {
     "name": "stdout",
     "output_type": "stream",
     "text": [
      "Hello Python\n"
     ]
    }
   ],
   "source": [
    "print(\"Hello Python\")"
   ]
  },
  {
   "cell_type": "markdown",
   "id": "58a3d663",
   "metadata": {},
   "source": [
    "## 2.Write a Python program to do arithmetical operations addition and division.?"
   ]
  },
  {
   "cell_type": "markdown",
   "id": "3ce4cee1",
   "metadata": {},
   "source": [
    "## Ans:"
   ]
  },
  {
   "cell_type": "code",
   "execution_count": 16,
   "id": "3fd0b6a8",
   "metadata": {},
   "outputs": [
    {
     "name": "stdout",
     "output_type": "stream",
     "text": [
      "Basic 4 Function calculator\n",
      "--> Enter first number : 5\n",
      "Enter a operator +,-, *, or / : +\n",
      "--> Enter second number : 6\n",
      "--->5.0 + 6.0 = 11.0\n",
      "\n",
      "\n",
      "Press Any key to continue, or\n",
      "To exit press 'q'\n",
      "--> Enter first number : 4\n",
      "Enter a operator +,-, *, or / : /\n",
      "--> Enter second number : 2\n",
      "--->4.0 / 2.0 = 2.0\n",
      "\n",
      "\n",
      "Press Any key to continue, or\n",
      "To exit press 'q'q\n"
     ]
    }
   ],
   "source": [
    "import operator\n",
    "operators = { \"+\": operator.add, \"-\": operator.sub, \"*\":operator.mul, \"/\":operator.truediv }\n",
    "print('Basic 4 Function calculator')\n",
    "\n",
    "while True:\n",
    "    num1 = float(input(\"--> Enter first number : \"))\n",
    "    oper = str(input(\"Enter a operator +,-, *, or / : \"))\n",
    "\n",
    "    while oper not in [\"+\",\"-\",\"*\",\"/\"]:\n",
    "        oper = input(\"Enter a valid operator +,-, *, or / : \")\n",
    "        \n",
    "    num2= float(input(\"--> Enter second number : \"))\n",
    "    if operator == \"/\" and num2 == 0:\n",
    "        print(\"Numerator can't be zero\")\n",
    "        break\n",
    "        \n",
    "    print(\"--->{} {} {} = {}\\n\\n\".format(num1, oper, num2, operators[oper](num1,num2)))\n",
    "    \n",
    "    choice = input(\"Press Any key to continue, or\\nTo exit press 'q'\")\n",
    "    if choice == 'q' or choice == 'Q':\n",
    "        break"
   ]
  },
  {
   "cell_type": "markdown",
   "id": "e154150b",
   "metadata": {},
   "source": [
    "## 3.Write a Python program to find the area of a triangle?"
   ]
  },
  {
   "cell_type": "markdown",
   "id": "00e6388a",
   "metadata": {},
   "source": [
    "## Ans"
   ]
  },
  {
   "cell_type": "code",
   "execution_count": 17,
   "id": "37127f55",
   "metadata": {},
   "outputs": [
    {
     "name": "stdout",
     "output_type": "stream",
     "text": [
      "Enter the base of the triangle: 4\n",
      "Enter the height of the triangle: 2\n",
      "Area of the triangle: 4.0\n"
     ]
    }
   ],
   "source": [
    "base = float(input(\"Enter the base of the triangle: \"))\n",
    "height = float(input(\"Enter the height of the triangle: \"))\n",
    "area = (base * height) / 2\n",
    "print(\"Area of the triangle:\", area)"
   ]
  },
  {
   "cell_type": "markdown",
   "id": "4d099a2b",
   "metadata": {},
   "source": [
    "## 4.Write a Python program to swap two variables?"
   ]
  },
  {
   "cell_type": "markdown",
   "id": "875bf876",
   "metadata": {},
   "source": [
    "## Ans"
   ]
  },
  {
   "cell_type": "code",
   "execution_count": 19,
   "id": "c4afb363",
   "metadata": {},
   "outputs": [
    {
     "name": "stdout",
     "output_type": "stream",
     "text": [
      "Enter the first variable: 4\n",
      "Enter the second variable: 8\n",
      "Before swapping: var1 = 4 , var2 = 8\n",
      "After swapping: var1 = 8 , var2 = 4\n"
     ]
    }
   ],
   "source": [
    "var1 = input(\"Enter the first variable: \")\n",
    "var2 = input(\"Enter the second variable: \")\n",
    "\n",
    "print(\"Before swapping: var1 =\", var1, \", var2 =\", var2)\n",
    "\n",
    "temp = var1\n",
    "var1 = var2\n",
    "var2 = temp\n",
    "\n",
    "print(\"After swapping: var1 =\", var1, \", var2 =\", var2)"
   ]
  },
  {
   "cell_type": "markdown",
   "id": "436e1057",
   "metadata": {},
   "source": [
    "## 5.Write a Python program to generate a random number?"
   ]
  },
  {
   "cell_type": "markdown",
   "id": "75ceb001",
   "metadata": {},
   "source": [
    "## Ans"
   ]
  },
  {
   "cell_type": "code",
   "execution_count": 22,
   "id": "e057177f",
   "metadata": {},
   "outputs": [
    {
     "name": "stdout",
     "output_type": "stream",
     "text": [
      "Random number: 91\n"
     ]
    }
   ],
   "source": [
    "import random\n",
    "\n",
    "random_number = random.randint(1, 100)\n",
    "print(\"Random number:\", random_number)"
   ]
  }
 ],
 "metadata": {
  "kernelspec": {
   "display_name": "Python 3 (ipykernel)",
   "language": "python",
   "name": "python3"
  },
  "language_info": {
   "codemirror_mode": {
    "name": "ipython",
    "version": 3
   },
   "file_extension": ".py",
   "mimetype": "text/x-python",
   "name": "python",
   "nbconvert_exporter": "python",
   "pygments_lexer": "ipython3",
   "version": "3.11.4"
  }
 },
 "nbformat": 4,
 "nbformat_minor": 5
}
