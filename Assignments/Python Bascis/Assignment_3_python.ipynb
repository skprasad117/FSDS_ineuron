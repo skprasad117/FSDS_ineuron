{
 "cells": [
  {
   "cell_type": "markdown",
   "id": "14a9b518",
   "metadata": {},
   "source": [
    "# Assignment_3"
   ]
  },
  {
   "cell_type": "markdown",
   "id": "e0c64890",
   "metadata": {},
   "source": [
    "## 1. Why are functions advantageous to have in your programs?"
   ]
  },
  {
   "cell_type": "markdown",
   "id": "b9ffa45d",
   "metadata": {},
   "source": [
    "Ans: In case of common repeatedly block of code, defining them in function make the code reusable and avoid writing the same \n",
    "    code again and again, and by simple fuction calls it can be called anywhere in the program."
   ]
  },
  {
   "cell_type": "markdown",
   "id": "c33db244",
   "metadata": {},
   "source": [
    "## 2. When does the code in a function run: when it's specified or when it's called?\n"
   ]
  },
  {
   "cell_type": "markdown",
   "id": "6b042bf0",
   "metadata": {},
   "source": [
    "Ans: code in the function run when it is called"
   ]
  },
  {
   "cell_type": "markdown",
   "id": "0bb9393d",
   "metadata": {},
   "source": [
    "## 3. What statement creates a function?\n"
   ]
  },
  {
   "cell_type": "markdown",
   "id": "6387525b",
   "metadata": {},
   "source": [
    "Ans: 'def' keyword creates the function followed by function name."
   ]
  },
  {
   "cell_type": "markdown",
   "id": "e87ec9ea",
   "metadata": {},
   "source": [
    "## 4. What is the difference between a function and a function call?\n"
   ]
  },
  {
   "cell_type": "markdown",
   "id": "47ef7821",
   "metadata": {},
   "source": [
    "function : It is a piece of code use to make given task modular and avoid rewriting of same piece of code again and again. \n",
    "           a function contains some statemnets followed by a return.\n",
    "    \n",
    "    eg: def xyz():\n",
    "            a=5\n",
    "            b=6\n",
    "            c=a+b\n",
    "            return c\n",
    "   \n",
    "function call: function call is the code use to pass the control to the function.\n",
    "     eg: d =  xyz()"
   ]
  },
  {
   "cell_type": "markdown",
   "id": "dbbad80e",
   "metadata": {},
   "source": [
    "## 5. How many global scopes are there in a Python program? How many local scopes?\n"
   ]
  },
  {
   "cell_type": "markdown",
   "id": "b1dccdfc",
   "metadata": {},
   "source": [
    "Ans: Global Scope: There is only one global scope and that remains until the program terminated.\n",
    "    \n",
    "     Local Scope: local scopes are created at the function calls and remain in existence until the function termination."
   ]
  },
  {
   "cell_type": "markdown",
   "id": "eb0f105c",
   "metadata": {},
   "source": [
    "## 6. What happens to variables in a local scope when the function call returns?\n"
   ]
  },
  {
   "cell_type": "markdown",
   "id": "1ae7c3b4",
   "metadata": {},
   "source": [
    "Ans: When functions returns then the local scope get destroyed."
   ]
  },
  {
   "cell_type": "markdown",
   "id": "a61cba0b",
   "metadata": {},
   "source": [
    "## 7. What is the concept of a return value? Is it possible to have a return value in an expression?\n"
   ]
  },
  {
   "cell_type": "markdown",
   "id": "3cd44d62",
   "metadata": {},
   "source": [
    "Ans: return statement is a statement use to return the resut of the function. yes it is possible to use the return value in \n",
    "an expression in which it has some logical meaning.\n"
   ]
  },
  {
   "cell_type": "code",
   "execution_count": 3,
   "id": "78470c1b",
   "metadata": {},
   "outputs": [],
   "source": [
    "def return_xyz():\n",
    "    return 7\n"
   ]
  },
  {
   "cell_type": "markdown",
   "id": "72dbc990",
   "metadata": {},
   "source": [
    "eg:  using return in an statemnet"
   ]
  },
  {
   "cell_type": "code",
   "execution_count": 8,
   "id": "7d30a717",
   "metadata": {},
   "outputs": [
    {
     "data": {
      "text/plain": [
       "14"
      ]
     },
     "execution_count": 8,
     "metadata": {},
     "output_type": "execute_result"
    }
   ],
   "source": [
    "return_xyz()*2"
   ]
  },
  {
   "cell_type": "markdown",
   "id": "989dce2a",
   "metadata": {},
   "source": [
    "## 8. If a function does not have a return statement, what is the return value of a call to that function?\n"
   ]
  },
  {
   "cell_type": "markdown",
   "id": "91558156",
   "metadata": {},
   "source": [
    "Ans : In case of omitting a return statement the return will be \"None\""
   ]
  },
  {
   "cell_type": "markdown",
   "id": "855579ce",
   "metadata": {},
   "source": [
    "## 9. How do you make a function variable refer to the global variable?"
   ]
  },
  {
   "cell_type": "markdown",
   "id": "73d4516a",
   "metadata": {},
   "source": [
    "Ans: By using the \"Global\" keyword inside any local scode the variable can be created in global scope"
   ]
  },
  {
   "cell_type": "markdown",
   "id": "bbf9c92b",
   "metadata": {},
   "source": [
    "eg:"
   ]
  },
  {
   "cell_type": "code",
   "execution_count": 11,
   "id": "660a1d7e",
   "metadata": {},
   "outputs": [
    {
     "name": "stdout",
     "output_type": "stream",
     "text": [
      "7\n"
     ]
    }
   ],
   "source": [
    "def xyz():\n",
    "    global a\n",
    "    x=5\n",
    "    \n",
    "xyz()\n",
    "print(a)"
   ]
  },
  {
   "cell_type": "markdown",
   "id": "610c6280",
   "metadata": {},
   "source": [
    "## 10. What is the data type of None?\n"
   ]
  },
  {
   "cell_type": "markdown",
   "id": "7a7d8a4d",
   "metadata": {},
   "source": [
    "Ans: None is a data type of its own and only none can be of datatype none"
   ]
  },
  {
   "cell_type": "code",
   "execution_count": 15,
   "id": "3d1065f7",
   "metadata": {},
   "outputs": [
    {
     "data": {
      "text/plain": [
       "NoneType"
      ]
     },
     "execution_count": 15,
     "metadata": {},
     "output_type": "execute_result"
    }
   ],
   "source": [
    "type(None)"
   ]
  },
  {
   "cell_type": "markdown",
   "id": "f8764b34",
   "metadata": {},
   "source": [
    "## 11. What does the sentence import areallyourpetsnamederic do?\n"
   ]
  },
  {
   "cell_type": "markdown",
   "id": "98dfb673",
   "metadata": {},
   "source": [
    "Ans: It imports a module name \"areallyourpetsnamederic\""
   ]
  },
  {
   "cell_type": "markdown",
   "id": "e9188839",
   "metadata": {},
   "source": [
    "## 12. If you had a bacon() feature in a spam module, what would you call it after importing spam?\n"
   ]
  },
  {
   "cell_type": "markdown",
   "id": "c5eed9cd",
   "metadata": {},
   "source": [
    "Ans:  spam.bacon()"
   ]
  },
  {
   "cell_type": "markdown",
   "id": "2d92e6a0",
   "metadata": {},
   "source": [
    "## 13. What can you do to save a programme from crashing if it encounters an error?\n"
   ]
  },
  {
   "cell_type": "markdown",
   "id": "0edf3b8e",
   "metadata": {},
   "source": [
    "Ans: Exception handling is use for suspecious part of code which may have chances of getting error and can stop the normal\n",
    "    execution of the program. The suspicious part is place in a \"try\" block and the appropriate statement according to the \n",
    "    expected error is placed in \"except\" block."
   ]
  },
  {
   "cell_type": "markdown",
   "id": "a571d139",
   "metadata": {},
   "source": [
    "## 14. What is the purpose of the try clause? What is the purpose of the except clause?"
   ]
  },
  {
   "cell_type": "markdown",
   "id": "90e43758",
   "metadata": {},
   "source": [
    "Ans: The suspicious part of cord which may catch some error is place in a \"try\" block and the appropriate statement according \n",
    "    to the expected error is placed in \"except\" block to handle the situation."
   ]
  }
 ],
 "metadata": {
  "kernelspec": {
   "display_name": "Python 3 (ipykernel)",
   "language": "python",
   "name": "python3"
  },
  "language_info": {
   "codemirror_mode": {
    "name": "ipython",
    "version": 3
   },
   "file_extension": ".py",
   "mimetype": "text/x-python",
   "name": "python",
   "nbconvert_exporter": "python",
   "pygments_lexer": "ipython3",
   "version": "3.9.12"
  }
 },
 "nbformat": 4,
 "nbformat_minor": 5
}
