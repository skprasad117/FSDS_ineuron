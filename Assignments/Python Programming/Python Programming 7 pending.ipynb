{
 "cells": [
  {
   "cell_type": "code",
   "execution_count": null,
   "id": "b66c8767",
   "metadata": {},
   "outputs": [],
   "source": [
    "## 1.Write a Python Program to find sum of array?\n"
   ]
  },
  {
   "cell_type": "code",
   "execution_count": 1,
   "id": "955e7299",
   "metadata": {},
   "outputs": [
    {
     "name": "stdout",
     "output_type": "stream",
     "text": [
      "Enter elements separated by spaces: 10 20 30 40\n",
      "Sum of the array: 100\n"
     ]
    }
   ],
   "source": [
    "def array_sum(arr):\n",
    "    total = 0\n",
    "    for element in arr:\n",
    "        total += element\n",
    "    return total\n",
    "\n",
    "arr = [int(x) for x in input(\"Enter elements separated by spaces: \").split()]\n",
    "\n",
    "sum_of_array = array_sum(arr)\n",
    "print(\"Sum of the array:\", sum_of_array)"
   ]
  },
  {
   "cell_type": "code",
   "execution_count": null,
   "id": "59d30e2e",
   "metadata": {},
   "outputs": [],
   "source": [
    "## 2.Write a Python Program to find largest element in an array?\n"
   ]
  },
  {
   "cell_type": "code",
   "execution_count": 2,
   "id": "2ac6507b",
   "metadata": {},
   "outputs": [
    {
     "name": "stdout",
     "output_type": "stream",
     "text": [
      "Enter the array elements separated by spaces: 10 30 40 100\n",
      "Largest element in the array: 100\n"
     ]
    }
   ],
   "source": [
    "def largest_element(arr):\n",
    "    if not arr:\n",
    "        return None\n",
    "    max_element = arr[0]\n",
    "    for element in arr:\n",
    "        if element > max_element:\n",
    "            max_element = element\n",
    "    return max_element\n",
    "\n",
    "arr = [int(x) for x in input(\"Enter the array elements separated by spaces: \").split()]\n",
    "\n",
    "largest_element = largest_element(arr)\n",
    "if largest_element is not None:\n",
    "    print(\"Largest element in the array:\", largest_element)\n",
    "else:\n",
    "    print(\"The array is empty.\")\n"
   ]
  },
  {
   "cell_type": "code",
   "execution_count": null,
   "id": "0367b8bf",
   "metadata": {},
   "outputs": [],
   "source": [
    "## 3.Write a Python Program for array rotation?\n"
   ]
  },
  {
   "cell_type": "code",
   "execution_count": 4,
   "id": "cf7cb740",
   "metadata": {},
   "outputs": [
    {
     "name": "stdout",
     "output_type": "stream",
     "text": [
      "Enter the array elements separated by spaces: 1 2 3 4 5 6\n",
      "Enter the number of positions to rotate: 2\n",
      "Rotated array: [3, 4, 5, 6, 1, 2]\n"
     ]
    }
   ],
   "source": [
    "def rotate_array(arr, d):\n",
    "    d = d % len(arr)  # Ensure d is within the array length\n",
    "    rotated_arr = arr[d:] + arr[:d]\n",
    "    return rotated_arr\n",
    "\n",
    "arr = [int(x) for x in input(\"Enter the array elements separated by spaces: \").split()]\n",
    "d = int(input(\"Enter the number of positions to rotate: \"))\n",
    "\n",
    "rotated_array = rotate_array(arr, d)\n",
    "print(\"Rotated array:\", rotated_array)\n"
   ]
  },
  {
   "cell_type": "code",
   "execution_count": null,
   "id": "a1d523cc",
   "metadata": {},
   "outputs": [],
   "source": [
    "## 4.Write a Python Program to Split the array and add the first part to the end?\n"
   ]
  },
  {
   "cell_type": "code",
   "execution_count": null,
   "id": "450a62f0",
   "metadata": {},
   "outputs": [],
   "source": []
  },
  {
   "cell_type": "code",
   "execution_count": null,
   "id": "34c83528",
   "metadata": {},
   "outputs": [],
   "source": [
    "## 5.Write a Python Program to check if given array is Monotonic?"
   ]
  },
  {
   "cell_type": "code",
   "execution_count": null,
   "id": "8a424286",
   "metadata": {},
   "outputs": [],
   "source": []
  }
 ],
 "metadata": {
  "kernelspec": {
   "display_name": "Python 3 (ipykernel)",
   "language": "python",
   "name": "python3"
  },
  "language_info": {
   "codemirror_mode": {
    "name": "ipython",
    "version": 3
   },
   "file_extension": ".py",
   "mimetype": "text/x-python",
   "name": "python",
   "nbconvert_exporter": "python",
   "pygments_lexer": "ipython3",
   "version": "3.11.4"
  }
 },
 "nbformat": 4,
 "nbformat_minor": 5
}
